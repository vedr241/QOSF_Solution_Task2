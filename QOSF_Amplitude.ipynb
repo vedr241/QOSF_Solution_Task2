{
 "cells": [
  {
   "cell_type": "markdown",
   "id": "36d555c5",
   "metadata": {},
   "source": [
    "QOSF Sceening Task 2 solution - Vedant Dwivedi "
   ]
  },
  {
   "cell_type": "markdown",
   "id": "cea2e2e6",
   "metadata": {},
   "source": [
    "Imports"
   ]
  },
  {
   "cell_type": "code",
   "execution_count": 1,
   "id": "f6bfa89d",
   "metadata": {},
   "outputs": [],
   "source": [
    "import pennylane as qml\n",
    "\n",
    "from pennylane import numpy as np\n",
    "from pennylane.templates.embeddings import AmplitudeEmbedding, AngleEmbedding\n",
    "from pennylane.templates.layers import StronglyEntanglingLayers\n",
    "from pennylane.optimize import NesterovMomentumOptimizer , GradientDescentOptimizer, AdamOptimizer\n",
    "from pennylane.init import strong_ent_layers_uniform\n",
    "import torch\n",
    "from torch.autograd import Variable\n",
    "from sklearn.preprocessing import minmax_scale\n",
    "from sklearn.model_selection import train_test_split\n",
    "import sklearn.metrics as metrics\n",
    "from itertools import chain\n",
    "import matplotlib.pyplot as plt"
   ]
  },
  {
   "cell_type": "markdown",
   "id": "3ad8e16e",
   "metadata": {},
   "source": [
    "Data import, preprocessing and splitting"
   ]
  },
  {
   "cell_type": "code",
   "execution_count": 2,
   "id": "81d4d5a5",
   "metadata": {},
   "outputs": [],
   "source": [
    "# load the training dataset\n",
    "data_train=np.loadtxt('/Users/apple/variational_classifer/data/mock_train_set.csv', delimiter=',', skiprows=1)"
   ]
  },
  {
   "cell_type": "code",
   "execution_count": 3,
   "id": "5559f9e5",
   "metadata": {},
   "outputs": [],
   "source": [
    "# load the testing dataset\n",
    "data_test=np.loadtxt('/Users/apple/variational_classifer/data/mock_test_set.csv', delimiter=',', skiprows=1)"
   ]
  },
  {
   "cell_type": "code",
   "execution_count": 4,
   "id": "0af7296c",
   "metadata": {},
   "outputs": [],
   "source": [
    "# uses the column 4  as the target and use the data from column0 to column3 \n",
    "X_test = data_test[:, 0:4]\n",
    "y_test = data_test[:,4]"
   ]
  },
  {
   "cell_type": "code",
   "execution_count": 5,
   "id": "2caea527",
   "metadata": {},
   "outputs": [],
   "source": [
    "X = data_train[:, 0:4]\n",
    "y = data_train[:,4]"
   ]
  },
  {
   "cell_type": "code",
   "execution_count": 6,
   "id": "7cc21d09",
   "metadata": {},
   "outputs": [],
   "source": [
    "def get_angles(x):\n",
    "\n",
    "    beta0 = 2 * np.arcsin(np.sqrt(x[1] ** 2) / np.sqrt(x[0] ** 2 + x[1] ** 2 + 1e-12))\n",
    "    beta1 = 2 * np.arcsin(np.sqrt(x[3] ** 2) / np.sqrt(x[2] ** 2 + x[3] ** 2 + 1e-12))\n",
    "    beta2 = 2 * np.arcsin(np.sqrt(x[2] ** 2 + x[3] ** 2)/ np.sqrt(x[0] ** 2 + x[1] ** 2 + x[2] ** 2 + x[3] ** 2))\n",
    "\n",
    "    return np.array([beta2, -beta1 / 2, beta1 / 2, -beta0 / 2, beta0 / 2])"
   ]
  },
  {
   "cell_type": "code",
   "execution_count": 7,
   "id": "2c9a83a0",
   "metadata": {},
   "outputs": [
    {
     "name": "stdout",
     "output_type": "stream",
     "text": [
      "First X sample (original)  : [2789.26 1000.     10.     20.  ]\n",
      "First X sample (padded)    : [2.78926e+03 1.00000e+03 1.00000e+01 2.00000e+01 3.00000e-01 0.00000e+00]\n",
      "First X sample (normalized): [9.41304384e-01 3.37474593e-01 3.37474593e-03 6.74949187e-03\n",
      " 1.01242378e-04 0.00000000e+00]\n",
      "First features sample      : [ 0.01509247 -1.1071487   1.1071487  -0.34424302  0.34424302]\n"
     ]
    }
   ],
   "source": [
    "print(\"First X sample (original)  :\", X[0])\n",
    "\n",
    "# pad the vectors to size 2^2 with constant values\n",
    "padding = 0.3 * np.ones((len(X), 1))\n",
    "X_pad = np.c_[np.c_[X, padding], np.zeros((len(X), 1))]\n",
    "print(\"First X sample (padded)    :\", X_pad[0])\n",
    "\n",
    "# normalize each input\n",
    "normalization = np.sqrt(np.sum(X_pad ** 2, -1))\n",
    "X_norm = (X_pad.T / normalization).T\n",
    "print(\"First X sample (normalized):\", X_norm[0])\n",
    "\n",
    "# angles for state preparation are new features\n",
    "features = np.array([get_angles(x) for x in X_norm], requires_grad=False)\n",
    "print(\"First features sample      :\", features[0])"
   ]
  },
  {
   "cell_type": "code",
   "execution_count": 8,
   "id": "4fa19c90",
   "metadata": {},
   "outputs": [],
   "source": [
    "feature_size= features.shape[1]\n",
    "batch_size = 10\n",
    "num_qubits = int(np.ceil(np.log2(feature_size)))\n",
    "num_layers = 6\n",
    "num_data = len(y)\n",
    "num_train = int(0.75 * num_data)"
   ]
  },
  {
   "cell_type": "code",
   "execution_count": 9,
   "id": "564e4b07",
   "metadata": {},
   "outputs": [],
   "source": [
    "#split into train and validation\n",
    "np.random.seed(0)\n",
    "index = np.random.permutation(range(num_data))\n",
    "\n",
    "\n",
    "X_train = features[index[:num_train]]\n",
    "y_train = y[index[:num_train]]\n",
    "X_val = features[index[num_train:]]\n",
    "y_val = y[index[num_train:]]"
   ]
  },
  {
   "cell_type": "markdown",
   "id": "1b8a444e",
   "metadata": {},
   "source": [
    "Building the quantum classifier"
   ]
  },
  {
   "cell_type": "code",
   "execution_count": 10,
   "id": "89d6c483",
   "metadata": {},
   "outputs": [],
   "source": [
    "def statepreparation(a):\n",
    "    qml.RY(a[0], wires=0)\n",
    "\n",
    "    qml.CNOT(wires=[0, 1])\n",
    "    qml.RY(a[1], wires=1)\n",
    "    qml.CNOT(wires=[0, 1])\n",
    "    qml.RY(a[2], wires=1)\n",
    "\n",
    "    qml.PauliX(wires=0)\n",
    "    qml.CNOT(wires=[0, 1])\n",
    "    qml.RY(a[3], wires=1)\n",
    "    qml.CNOT(wires=[0, 1])\n",
    "\n",
    "    qml.PauliX(wires=0)"
   ]
  },
  {
   "cell_type": "code",
   "execution_count": 11,
   "id": "f8d06713",
   "metadata": {},
   "outputs": [],
   "source": [
    "# quantum device handle\n",
    "dev = qml.device(\"default.qubit\", wires=num_qubits)"
   ]
  },
  {
   "cell_type": "code",
   "execution_count": 12,
   "id": "14f947d5",
   "metadata": {},
   "outputs": [],
   "source": [
    "def layer(W):\n",
    "    for i in range(num_qubits):\n",
    "        qml.Rot(W[i, 0], W[i, 1], W[i, 2], wires=i)\n",
    "    for j in range(num_qubits - 1):\n",
    "        qml.CNOT(wires=[j, j + 1])\n",
    "    if num_qubits >= 2:\n",
    "     # Apply additional CNOT to entangle the last with the first qubit\n",
    "        qml.CNOT(wires=[num_qubits - 1, 0])"
   ]
  },
  {
   "cell_type": "code",
   "execution_count": 13,
   "id": "677cbc07",
   "metadata": {},
   "outputs": [],
   "source": [
    "def variational_classifier(weights, bias, x):\n",
    "    return circuit(weights, x) + bias"
   ]
  },
  {
   "cell_type": "code",
   "execution_count": 14,
   "id": "d7e37586",
   "metadata": {},
   "outputs": [],
   "source": [
    "@qml.qnode(dev)\n",
    "def circuit(weights, x):\n",
    "    statepreparation(x)\n",
    "\n",
    "    for W in weights:\n",
    "        layer(W)\n",
    "\n",
    "    return qml.expval(qml.PauliZ(0))"
   ]
  },
  {
   "cell_type": "code",
   "execution_count": 15,
   "id": "535944f5",
   "metadata": {},
   "outputs": [],
   "source": [
    "def cost(weights, bias, features, expectations):\n",
    "    e_predicted = [variational_classifier(weights, bias, f) for f in features]\n",
    "    return square_loss(expectations,e_predicted)\n",
    "\n",
    "def square_loss(expectations, e_predicted):\n",
    "    loss = 0\n",
    "    for l, p in zip(expectations, e_predicted):\n",
    "        loss = loss + (l - p) ** 2\n",
    "\n",
    "    loss = loss / len(expectations)\n",
    "    return loss"
   ]
  },
  {
   "cell_type": "code",
   "execution_count": 16,
   "id": "9303038d",
   "metadata": {},
   "outputs": [],
   "source": [
    "def accuracy(expectations, e_predicted):\n",
    "\n",
    "    loss = 0\n",
    "    for l, p in zip(expectations, e_predicted):\n",
    "        if abs(l - p) < 1e-5:\n",
    "            loss = loss + 1\n",
    "    loss = loss / len(expectations)\n",
    "\n",
    "    return loss"
   ]
  },
  {
   "cell_type": "markdown",
   "id": "58a79146",
   "metadata": {},
   "source": [
    "Training and Inference"
   ]
  },
  {
   "cell_type": "code",
   "execution_count": 17,
   "id": "59bf65e3",
   "metadata": {},
   "outputs": [],
   "source": [
    "#draw random quantum node weights----------\n",
    "#weights_init = 0.01 * np.random.randn(num_layers, num_qubits, 3, requires_grad=True)\n",
    "#bias_init = np.array(0.0, requires_grad=True)"
   ]
  },
  {
   "cell_type": "code",
   "execution_count": 18,
   "id": "97a21ce9",
   "metadata": {},
   "outputs": [
    {
     "name": "stderr",
     "output_type": "stream",
     "text": [
      "/var/folders/ct/dqdky4352zx_f2qfwpf8xq840000gn/T/ipykernel_16648/4063326688.py:1: UserWarning: The init module will be deprecated soon, since templates can now provide a method that returns the shape of parameter tensors.\n",
      "  weights_init = strong_ent_layers_uniform(num_layers, num_qubits, seed=42)\n"
     ]
    }
   ],
   "source": [
    "weights_init = strong_ent_layers_uniform(num_layers, num_qubits, seed=42)\n",
    "bias_init = 0.0\n",
    "weights = weights_init\n",
    "bias = bias_init"
   ]
  },
  {
   "cell_type": "code",
   "execution_count": 19,
   "id": "3069947d",
   "metadata": {},
   "outputs": [],
   "source": [
    "#build the optimizer object-------------------\n",
    "#opt = AdamOptimizer(0.1, beta1=0.9, beta2=0.999)\n",
    "#opt = NesterovMomentumOptimizer(0.5)\n",
    "opt = GradientDescentOptimizer()"
   ]
  },
  {
   "cell_type": "code",
   "execution_count": 20,
   "id": "dde5fd0a",
   "metadata": {},
   "outputs": [
    {
     "name": "stderr",
     "output_type": "stream",
     "text": [
      "/Users/apple/opt/anaconda3/lib/python3.9/site-packages/pennylane/_grad.py:95: UserWarning: Starting with PennyLane v0.20.0, when using Autograd, inputs have to explicitly specify requires_grad=True (or the argnum argument must be passed) in order for trainable parameters to be identified.\n",
      "  warnings.warn(\n"
     ]
    },
    {
     "name": "stdout",
     "output_type": "stream",
     "text": [
      "Iter:     1 | Cost: 1.1476544 | Acc train: 0.0000000 | Acc validation: 0.0000000 | Acc test: 0.1833333\n",
      "Iter:     2 | Cost: 1.0785985 | Acc train: 0.0000000 | Acc validation: 0.0000000 | Acc test: 0.2000000\n",
      "Iter:     3 | Cost: 1.0554011 | Acc train: 0.0000000 | Acc validation: 0.0000000 | Acc test: 0.2083333\n",
      "Iter:     4 | Cost: 0.9990567 | Acc train: 0.0000000 | Acc validation: 0.0000000 | Acc test: 0.2250000\n",
      "Iter:     5 | Cost: 0.9516326 | Acc train: 0.0000000 | Acc validation: 0.0000000 | Acc test: 0.2250000\n",
      "Iter:     6 | Cost: 0.9169037 | Acc train: 0.0000000 | Acc validation: 0.0000000 | Acc test: 0.2250000\n",
      "Iter:     7 | Cost: 0.8704324 | Acc train: 0.0044444 | Acc validation: 0.0000000 | Acc test: 0.2333333\n",
      "Iter:     8 | Cost: 0.8018633 | Acc train: 0.0044444 | Acc validation: 0.0000000 | Acc test: 0.2666667\n",
      "Iter:     9 | Cost: 0.7648991 | Acc train: 0.0044444 | Acc validation: 0.0000000 | Acc test: 0.2916667\n",
      "Iter:    10 | Cost: 0.7343841 | Acc train: 0.0044444 | Acc validation: 0.0000000 | Acc test: 0.2916667\n",
      "Iter:    11 | Cost: 0.7068348 | Acc train: 0.0044444 | Acc validation: 0.0000000 | Acc test: 0.2916667\n",
      "Iter:    12 | Cost: 0.6972368 | Acc train: 0.0044444 | Acc validation: 0.0000000 | Acc test: 0.2916667\n",
      "Iter:    13 | Cost: 0.6720121 | Acc train: 0.0133333 | Acc validation: 0.0000000 | Acc test: 0.3000000\n",
      "Iter:    14 | Cost: 0.6543866 | Acc train: 0.0177778 | Acc validation: 0.0133333 | Acc test: 0.3083333\n",
      "Iter:    15 | Cost: 0.6137831 | Acc train: 0.0222222 | Acc validation: 0.0133333 | Acc test: 0.3083333\n",
      "Iter:    16 | Cost: 0.5734509 | Acc train: 0.0266667 | Acc validation: 0.0133333 | Acc test: 0.3166667\n",
      "Iter:    17 | Cost: 0.5524624 | Acc train: 0.0311111 | Acc validation: 0.0133333 | Acc test: 0.3166667\n",
      "Iter:    18 | Cost: 0.5188196 | Acc train: 0.0355556 | Acc validation: 0.0133333 | Acc test: 0.3333333\n",
      "Iter:    19 | Cost: 0.4805022 | Acc train: 0.0577778 | Acc validation: 0.0133333 | Acc test: 0.3416667\n",
      "Iter:    20 | Cost: 0.4599023 | Acc train: 0.0755556 | Acc validation: 0.0533333 | Acc test: 0.3500000\n",
      "Iter:    21 | Cost: 0.4500700 | Acc train: 0.0800000 | Acc validation: 0.0666667 | Acc test: 0.3583333\n",
      "Iter:    22 | Cost: 0.4269988 | Acc train: 0.0933333 | Acc validation: 0.0666667 | Acc test: 0.3833333\n",
      "Iter:    23 | Cost: 0.3977911 | Acc train: 0.3200000 | Acc validation: 0.3066667 | Acc test: 0.4166667\n",
      "Iter:    24 | Cost: 0.3982081 | Acc train: 0.3200000 | Acc validation: 0.3066667 | Acc test: 0.4250000\n",
      "Iter:    25 | Cost: 0.3975782 | Acc train: 0.3200000 | Acc validation: 0.3066667 | Acc test: 0.4250000\n",
      "Iter:    26 | Cost: 0.3795748 | Acc train: 0.3955556 | Acc validation: 0.3466667 | Acc test: 0.4333333\n",
      "Iter:    27 | Cost: 0.3601956 | Acc train: 0.3955556 | Acc validation: 0.3466667 | Acc test: 0.4500000\n",
      "Iter:    28 | Cost: 0.3586765 | Acc train: 0.3955556 | Acc validation: 0.3466667 | Acc test: 0.4583333\n",
      "Iter:    29 | Cost: 0.3407717 | Acc train: 0.4355556 | Acc validation: 0.3466667 | Acc test: 0.4666667\n",
      "Iter:    30 | Cost: 0.3259065 | Acc train: 0.4888889 | Acc validation: 0.4400000 | Acc test: 0.4750000\n",
      "Iter:    31 | Cost: 0.3188766 | Acc train: 0.4888889 | Acc validation: 0.4400000 | Acc test: 0.4833333\n",
      "Iter:    32 | Cost: 0.3108421 | Acc train: 0.4888889 | Acc validation: 0.4400000 | Acc test: 0.4833333\n",
      "Iter:    33 | Cost: 0.3032122 | Acc train: 0.4888889 | Acc validation: 0.4400000 | Acc test: 0.4833333\n",
      "Iter:    34 | Cost: 0.2977509 | Acc train: 0.4888889 | Acc validation: 0.4400000 | Acc test: 0.5000000\n",
      "Iter:    35 | Cost: 0.2970711 | Acc train: 0.4888889 | Acc validation: 0.4400000 | Acc test: 0.5000000\n",
      "Iter:    36 | Cost: 0.2942339 | Acc train: 0.4888889 | Acc validation: 0.4400000 | Acc test: 0.5000000\n",
      "Iter:    37 | Cost: 0.2890173 | Acc train: 0.4888889 | Acc validation: 0.4400000 | Acc test: 0.5000000\n",
      "Iter:    38 | Cost: 0.2852181 | Acc train: 0.4888889 | Acc validation: 0.4400000 | Acc test: 0.5000000\n",
      "Iter:    39 | Cost: 0.2782294 | Acc train: 0.4888889 | Acc validation: 0.4400000 | Acc test: 0.5000000\n",
      "Iter:    40 | Cost: 0.2796354 | Acc train: 0.4888889 | Acc validation: 0.4400000 | Acc test: 0.5000000\n",
      "Iter:    41 | Cost: 0.2810432 | Acc train: 0.4888889 | Acc validation: 0.4400000 | Acc test: 0.5000000\n",
      "Iter:    42 | Cost: 0.2730100 | Acc train: 0.4888889 | Acc validation: 0.4400000 | Acc test: 0.5083333\n",
      "Iter:    43 | Cost: 0.2707994 | Acc train: 0.4888889 | Acc validation: 0.4400000 | Acc test: 0.5166667\n",
      "Iter:    44 | Cost: 0.2662239 | Acc train: 0.4888889 | Acc validation: 0.4400000 | Acc test: 0.5166667\n",
      "Iter:    45 | Cost: 0.2652225 | Acc train: 0.4888889 | Acc validation: 0.4400000 | Acc test: 0.5166667\n",
      "Iter:    46 | Cost: 0.2655320 | Acc train: 0.4888889 | Acc validation: 0.4400000 | Acc test: 0.5166667\n",
      "Iter:    47 | Cost: 0.2632427 | Acc train: 0.4888889 | Acc validation: 0.4400000 | Acc test: 0.5166667\n",
      "Iter:    48 | Cost: 0.2603693 | Acc train: 0.4888889 | Acc validation: 0.4400000 | Acc test: 0.5166667\n",
      "Iter:    49 | Cost: 0.2581181 | Acc train: 0.4888889 | Acc validation: 0.4400000 | Acc test: 0.5166667\n",
      "Iter:    50 | Cost: 0.2558021 | Acc train: 0.4888889 | Acc validation: 0.4400000 | Acc test: 0.5166667\n",
      "Iter:    51 | Cost: 0.2559974 | Acc train: 0.4888889 | Acc validation: 0.4400000 | Acc test: 0.5166667\n",
      "Iter:    52 | Cost: 0.2546593 | Acc train: 0.4888889 | Acc validation: 0.4400000 | Acc test: 0.5166667\n",
      "Iter:    53 | Cost: 0.2542243 | Acc train: 0.4888889 | Acc validation: 0.4400000 | Acc test: 0.5166667\n",
      "Iter:    54 | Cost: 0.2536182 | Acc train: 0.4888889 | Acc validation: 0.4400000 | Acc test: 0.5166667\n",
      "Iter:    55 | Cost: 0.2533102 | Acc train: 0.4888889 | Acc validation: 0.4400000 | Acc test: 0.5166667\n",
      "Iter:    56 | Cost: 0.2527869 | Acc train: 0.4888889 | Acc validation: 0.4400000 | Acc test: 0.5166667\n",
      "Iter:    57 | Cost: 0.2521792 | Acc train: 0.4888889 | Acc validation: 0.4400000 | Acc test: 0.5166667\n",
      "Iter:    58 | Cost: 0.2518246 | Acc train: 0.4888889 | Acc validation: 0.4400000 | Acc test: 0.5166667\n",
      "Iter:    59 | Cost: 0.2517551 | Acc train: 0.4888889 | Acc validation: 0.4400000 | Acc test: 0.5166667\n",
      "Iter:    60 | Cost: 0.2516203 | Acc train: 0.4888889 | Acc validation: 0.4400000 | Acc test: 0.5166667\n"
     ]
    }
   ],
   "source": [
    "lossplot = []\n",
    "train_acc, train_val_acc, test_acc = [], [], []\n",
    "for it in range(60):\n",
    "\n",
    "    #Update the weights by one optimizer step\n",
    "    batch_index = np.random.randint(0, num_train, (batch_size,))\n",
    "    X_batch = X_train[batch_index]\n",
    "    Y_batch = y_train[batch_index]\n",
    "    weights, bias, _, _ = opt.step(cost, weights, bias, X_batch, Y_batch)\n",
    "    \n",
    "    # Compute predictions on train and validation set\n",
    "    predictions_train = [np.sign(variational_classifier(weights, bias, f)) for f in X_train]\n",
    "    predictions_val =  [np.sign(variational_classifier(weights, bias, f)) for f in X_val]\n",
    "    predictions_test =  [np.sign(variational_classifier(weights, bias, f)) for f in X_test]\n",
    "\n",
    "\n",
    "    # Compute accuracy on train and validation set\n",
    "    acc_train = accuracy(y_train, predictions_train)\n",
    "    acc_val = accuracy(y_val, predictions_val)\n",
    "    acc_test = accuracy(y_test, predictions_test)\n",
    "\n",
    "    print(\"Iter: {:5d} | Cost: {:0.7f} | Acc train: {:0.7f} | Acc validation: {:0.7f} | Acc test: {:0.7f}\"\n",
    "        \"\".format(it + 1, cost(weights, bias, features, y_train), acc_train, acc_val, acc_test))\n",
    "    lossplot.append(cost(weights, bias, features, y_train))\n",
    "    train_acc.append(acc_train)\n",
    "    train_val_acc.append(acc_val)\n",
    "    test_acc.append(acc_test)"
   ]
  },
  {
   "cell_type": "code",
   "execution_count": 21,
   "id": "28498fd6",
   "metadata": {},
   "outputs": [
    {
     "data": {
      "image/png": "[encoded data removed]",
      "text/plain": [
       "<Figure size 432x288 with 2 Axes>"
      ]
     },
     "metadata": {
      "needs_background": "light"
     },
     "output_type": "display_data"
    },
    {
     "data": {
      "image/png": "[encoded data removed]",
      "text/plain": [
       "<Figure size 432x288 with 1 Axes>"
      ]
     },
     "metadata": {
      "needs_background": "light"
     },
     "output_type": "display_data"
    }
   ],
   "source": [
    "fig, ax1 = plt.subplots()\n",
    "iters = np.arange(0, 60, 1)\n",
    "colors = [\"tab:red\", \"tab:blue\"]\n",
    "ax1.set_xlabel(\"Iteration\", fontsize=17)\n",
    "ax1.set_ylabel(\"Lost\", fontsize=17, color=colors[0])\n",
    "ax1.plot(iters, lossplot, color=colors[0], linewidth=4)\n",
    "ax1.tick_params(axis=\"y\", labelsize=14, labelcolor=colors[0])\n",
    "\n",
    "ax2 = ax1.twinx()\n",
    "ax2.set_ylabel(\"Test Acc.\", fontsize=17, color=colors[1])\n",
    "ax2.plot(iters, test_acc, color=colors[1], linewidth=4)\n",
    "\n",
    "ax2.tick_params(axis=\"x\", labelsize=14)\n",
    "ax2.tick_params(axis=\"y\", labelsize=14, labelcolor=colors[1])\n",
    "\n",
    "plt.grid(False)\n",
    "\n",
    "plt.show()\n",
    "\n",
    "plt.plot(train_acc,'r',label=\"train\")\n",
    "plt.plot(test_acc,'b',label=\"test\")\n",
    "plt.ylabel('accuracy')\n",
    "plt.legend()\n",
    "plt.show()\n"
   ]
  },
  {
   "cell_type": "code",
   "execution_count": 22,
   "id": "9464cc27",
   "metadata": {},
   "outputs": [
    {
     "name": "stdout",
     "output_type": "stream",
     "text": [
      "[[ 0 58]\n",
      " [ 0 62]]\n"
     ]
    }
   ],
   "source": [
    "print(metrics.confusion_matrix(y_test,predictions_test))"
   ]
  },
  {
   "cell_type": "markdown",
   "id": "9975a655",
   "metadata": {},
   "source": []
  }
 ],
 "metadata": {
  "kernelspec": {
   "display_name": "Python 3 (ipykernel)",
   "language": "python",
   "name": "python3"
  },
  "language_info": {
   "codemirror_mode": {
    "name": "ipython",
    "version": 3
   },
   "file_extension": ".py",
   "mimetype": "text/x-python",
   "name": "python",
   "nbconvert_exporter": "python",
   "pygments_lexer": "ipython3",
   "version": "3.9.7"
  }
 },
 "nbformat": 4,
 "nbformat_minor": 5
}
