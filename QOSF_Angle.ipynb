{
 "cells": [
  {
   "cell_type": "markdown",
   "id": "1f9c1fa2",
   "metadata": {},
   "source": [
    "QOSF Sceening Task 2 solution - Vedant Dwivedi "
   ]
  },
  {
   "cell_type": "markdown",
   "id": "cea2e2e6",
   "metadata": {},
   "source": [
    "Imports"
   ]
  },
  {
   "cell_type": "code",
   "execution_count": 1,
   "id": "f6bfa89d",
   "metadata": {},
   "outputs": [],
   "source": [
    "import pennylane as qml\n",
    "\n",
    "from pennylane import numpy as np\n",
    "from pennylane.templates.embeddings import AmplitudeEmbedding, AngleEmbedding\n",
    "from pennylane.templates.layers import StronglyEntanglingLayers\n",
    "from pennylane.optimize import NesterovMomentumOptimizer , GradientDescentOptimizer, AdamOptimizer\n",
    "from pennylane.init import strong_ent_layers_uniform\n",
    "import torch\n",
    "from torch.autograd import Variable\n",
    "from sklearn.preprocessing import minmax_scale\n",
    "from sklearn.model_selection import train_test_split\n",
    "import sklearn.metrics as metrics\n",
    "from itertools import chain\n",
    "import matplotlib.pyplot as plt"
   ]
  },
  {
   "cell_type": "markdown",
   "id": "18019fe8",
   "metadata": {},
   "source": [
    "Data import, preprocessing and splitting"
   ]
  },
  {
   "cell_type": "code",
   "execution_count": 2,
   "id": "81d4d5a5",
   "metadata": {},
   "outputs": [],
   "source": [
    "# load the training dataset\n",
    "data_train=np.loadtxt('/Users/apple/variational_classifer/data/mock_train_set.csv', delimiter=',', skiprows=1)"
   ]
  },
  {
   "cell_type": "code",
   "execution_count": 3,
   "id": "5559f9e5",
   "metadata": {},
   "outputs": [],
   "source": [
    "# load the testing dataset\n",
    "data_test=np.loadtxt('/Users/apple/variational_classifer/data/mock_test_set.csv', delimiter=',', skiprows=1)"
   ]
  },
  {
   "cell_type": "code",
   "execution_count": 4,
   "id": "0af7296c",
   "metadata": {},
   "outputs": [],
   "source": [
    "# uses the column 4  as the target and use the data from column0 to column3 \n",
    "X_test = data_test[:, 0:4]\n",
    "y_test = data_test[:,4]"
   ]
  },
  {
   "cell_type": "code",
   "execution_count": 5,
   "id": "2caea527",
   "metadata": {},
   "outputs": [],
   "source": [
    "X = data_train[:, 0:4]\n",
    "y = data_train[:,4]"
   ]
  },
  {
   "cell_type": "code",
   "execution_count": 6,
   "id": "7cc21d09",
   "metadata": {},
   "outputs": [],
   "source": [
    "# normalize data\n",
    "X = minmax_scale(X, feature_range=(0, np.pi))\n",
    "X_test = minmax_scale(X_test, feature_range=(0, np.pi))"
   ]
  },
  {
   "cell_type": "code",
   "execution_count": 7,
   "id": "2c9a83a0",
   "metadata": {},
   "outputs": [],
   "source": [
    "feature_size= X.shape[1]\n",
    "batch_size = 14\n",
    "num_qubits = feature_size\n",
    "num_layers = 3\n",
    "num_data = len(y)\n",
    "num_train = int(0.80 * num_data)"
   ]
  },
  {
   "cell_type": "code",
   "execution_count": 8,
   "id": "c498e2ff",
   "metadata": {},
   "outputs": [],
   "source": [
    "#split into train and validation\n",
    "np.random.seed(0)\n",
    "index = np.random.permutation(range(num_data))\n",
    "\n",
    "X_train = X[index[:num_train]]\n",
    "y_train = y[index[:num_train]]\n",
    "X_val = X[index[num_train:]]\n",
    "y_val = y[index[num_train:]]"
   ]
  },
  {
   "cell_type": "markdown",
   "id": "3711b4bd",
   "metadata": {},
   "source": [
    "Building the quantum classifier"
   ]
  },
  {
   "cell_type": "code",
   "execution_count": 9,
   "id": "2e944e2f",
   "metadata": {},
   "outputs": [],
   "source": [
    "# quantum device handle\n",
    "dev = qml.device(\"default.qubit\", wires=num_qubits)"
   ]
  },
  {
   "cell_type": "code",
   "execution_count": 10,
   "id": "800e8920",
   "metadata": {},
   "outputs": [],
   "source": [
    "#def layer(W):\n",
    " #   for i in range(num_qubits):\n",
    "  #      qml.Rot(W[i, 0], W[i, 1], W[i, 2], wires=i)\n",
    "   # for j in range(num_qubits - 1):\n",
    "    #    qml.CNOT(wires=[j, j + 1])\n",
    "    #if num_qubits >= 2:\n",
    "     #   # Apply additional CNOT to entangle the last with the first qubit\n",
    "      #  qml.CNOT(wires=[num_qubits - 1, 0])"
   ]
  },
  {
   "cell_type": "code",
   "execution_count": 11,
   "id": "d3d30cb6",
   "metadata": {},
   "outputs": [],
   "source": [
    "@qml.qnode(dev)\n",
    "def circuit(weights, x=None):\n",
    "    qml.templates.AngleEmbedding(x, wires=range(num_qubits),rotation='Y')\n",
    "    qml.templates.StronglyEntanglingLayers(weights, wires=range(num_qubits),imprimitive=qml.CZ)\n",
    "   #for W in weights:\n",
    "    #    layer(W)\n",
    "    return qml.expval(qml.PauliZ(0))"
   ]
  },
  {
   "cell_type": "code",
   "execution_count": 12,
   "id": "b123dbb7",
   "metadata": {},
   "outputs": [],
   "source": [
    "def variational_classifier(weights, bias, x=None):\n",
    "    return circuit(weights, x=x) + bias"
   ]
  },
  {
   "cell_type": "code",
   "execution_count": 13,
   "id": "07feb072",
   "metadata": {},
   "outputs": [],
   "source": [
    "def cost(weights, bias, X, expectations):\n",
    "    e_predicted = [variational_classifier(weights, bias, x=x) for x in X]\n",
    "    return square_loss(expectations,e_predicted)\n",
    "\n",
    "def square_loss(expectations, e_predicted):\n",
    "    loss = 0\n",
    "    for l, p in zip(expectations, e_predicted):\n",
    "        loss = loss + (l - p) ** 2\n",
    "\n",
    "    loss = loss / len(expectations)\n",
    "    return loss"
   ]
  },
  {
   "cell_type": "code",
   "execution_count": 14,
   "id": "01c19d4a",
   "metadata": {},
   "outputs": [],
   "source": [
    "def accuracy(expectations, e_predicted):\n",
    "\n",
    "    loss = 0\n",
    "    for l, p in zip(expectations, e_predicted):\n",
    "        if abs(l - p) < 1e-5:\n",
    "            loss = loss + 1\n",
    "    loss = loss / len(expectations)\n",
    "\n",
    "    return loss"
   ]
  },
  {
   "cell_type": "markdown",
   "id": "bd58920f",
   "metadata": {},
   "source": [
    "Training and Inference"
   ]
  },
  {
   "cell_type": "code",
   "execution_count": 15,
   "id": "59bf65e3",
   "metadata": {},
   "outputs": [],
   "source": [
    "#draw random quantum node weights----------\n",
    "#weights_init = 0.01 * np.random.randn(num_layers, num_qubits, 3, requires_grad=True)\n",
    "#bias_init = np.array(0.0, requires_grad=True)"
   ]
  },
  {
   "cell_type": "code",
   "execution_count": 16,
   "id": "97a21ce9",
   "metadata": {},
   "outputs": [
    {
     "name": "stderr",
     "output_type": "stream",
     "text": [
      "/var/folders/ct/dqdky4352zx_f2qfwpf8xq840000gn/T/ipykernel_16634/358325738.py:2: UserWarning: The init module will be deprecated soon, since templates can now provide a method that returns the shape of parameter tensors.\n",
      "  weights_init = strong_ent_layers_uniform(num_layers, num_qubits, seed=42)\n"
     ]
    }
   ],
   "source": [
    "#draw random quantum node weights----------\n",
    "weights_init = strong_ent_layers_uniform(num_layers, num_qubits, seed=42)\n",
    "bias_init = 0.0\n",
    "weights = weights_init\n",
    "bias = bias_init"
   ]
  },
  {
   "cell_type": "code",
   "execution_count": 17,
   "id": "3069947d",
   "metadata": {},
   "outputs": [],
   "source": [
    "#build the optimizer object-------------------\n",
    "opt = AdamOptimizer(0.1, beta1=0.9, beta2=0.999)\n",
    "#opt = NesterovMomentumOptimizer(0.2)\n",
    "#opt = GradientDescentOptimizer(0.2)"
   ]
  },
  {
   "cell_type": "code",
   "execution_count": 18,
   "id": "dde5fd0a",
   "metadata": {},
   "outputs": [
    {
     "name": "stderr",
     "output_type": "stream",
     "text": [
      "/Users/apple/opt/anaconda3/lib/python3.9/site-packages/pennylane/_grad.py:95: UserWarning: Starting with PennyLane v0.20.0, when using Autograd, inputs have to explicitly specify requires_grad=True (or the argnum argument must be passed) in order for trainable parameters to be identified.\n",
      "  warnings.warn(\n"
     ]
    },
    {
     "name": "stdout",
     "output_type": "stream",
     "text": [
      "Iter:     1 | Cost: 0.5224217 | Acc train: 0.3166667 | Acc validation: 0.2166667 | Acc test: 0.3250000\n",
      "Iter:     2 | Cost: 0.3090232 | Acc train: 0.3250000 | Acc validation: 0.2333333 | Acc test: 0.3500000\n",
      "Iter:     3 | Cost: 0.5188708 | Acc train: 0.3541667 | Acc validation: 0.2666667 | Acc test: 0.3500000\n",
      "Iter:     4 | Cost: 0.3391433 | Acc train: 0.3666667 | Acc validation: 0.2666667 | Acc test: 0.3666667\n",
      "Iter:     5 | Cost: 0.3226647 | Acc train: 0.3791667 | Acc validation: 0.2666667 | Acc test: 0.3750000\n",
      "Iter:     6 | Cost: 0.4610960 | Acc train: 0.3958333 | Acc validation: 0.2833333 | Acc test: 0.4000000\n",
      "Iter:     7 | Cost: 0.2794908 | Acc train: 0.4208333 | Acc validation: 0.3166667 | Acc test: 0.4166667\n",
      "Iter:     8 | Cost: 0.3895040 | Acc train: 0.4375000 | Acc validation: 0.3500000 | Acc test: 0.4250000\n",
      "Iter:     9 | Cost: 0.5824749 | Acc train: 0.4791667 | Acc validation: 0.3666667 | Acc test: 0.4916667\n",
      "Iter:    10 | Cost: 0.2493204 | Acc train: 0.5000000 | Acc validation: 0.3833333 | Acc test: 0.5166667\n",
      "Iter:    11 | Cost: 0.2595636 | Acc train: 0.5000000 | Acc validation: 0.3833333 | Acc test: 0.5166667\n",
      "Iter:    12 | Cost: 0.2489470 | Acc train: 0.5000000 | Acc validation: 0.3833333 | Acc test: 0.5166667\n",
      "Iter:    13 | Cost: 0.2295317 | Acc train: 0.5000000 | Acc validation: 0.3833333 | Acc test: 0.5166667\n",
      "Iter:    14 | Cost: 0.3490751 | Acc train: 0.5000000 | Acc validation: 0.3833333 | Acc test: 0.5166667\n",
      "Iter:    15 | Cost: 0.3961434 | Acc train: 0.5000000 | Acc validation: 0.3833333 | Acc test: 0.5166667\n",
      "Iter:    16 | Cost: 0.3007537 | Acc train: 0.5000000 | Acc validation: 0.3833333 | Acc test: 0.5166667\n",
      "Iter:    17 | Cost: 0.3093837 | Acc train: 0.5000000 | Acc validation: 0.3833333 | Acc test: 0.5166667\n",
      "Iter:    18 | Cost: 0.2762665 | Acc train: 0.5000000 | Acc validation: 0.3833333 | Acc test: 0.5166667\n",
      "Iter:    19 | Cost: 0.3133452 | Acc train: 0.5000000 | Acc validation: 0.3833333 | Acc test: 0.5166667\n",
      "Iter:    20 | Cost: 0.3305471 | Acc train: 0.5000000 | Acc validation: 0.3833333 | Acc test: 0.5166667\n",
      "Iter:    21 | Cost: 0.2152730 | Acc train: 0.5000000 | Acc validation: 0.3833333 | Acc test: 0.5166667\n",
      "Iter:    22 | Cost: 0.2205210 | Acc train: 0.5000000 | Acc validation: 0.3833333 | Acc test: 0.5166667\n",
      "Iter:    23 | Cost: 0.3344294 | Acc train: 0.5000000 | Acc validation: 0.3833333 | Acc test: 0.5166667\n",
      "Iter:    24 | Cost: 0.2641951 | Acc train: 0.5000000 | Acc validation: 0.3833333 | Acc test: 0.5166667\n",
      "Iter:    25 | Cost: 0.2969564 | Acc train: 0.5000000 | Acc validation: 0.3833333 | Acc test: 0.5166667\n",
      "Iter:    26 | Cost: 0.2669334 | Acc train: 0.5000000 | Acc validation: 0.3833333 | Acc test: 0.5166667\n",
      "Iter:    27 | Cost: 0.2552157 | Acc train: 0.5000000 | Acc validation: 0.3833333 | Acc test: 0.5166667\n",
      "Iter:    28 | Cost: 0.2921314 | Acc train: 0.5000000 | Acc validation: 0.3833333 | Acc test: 0.5166667\n",
      "Iter:    29 | Cost: 0.2305575 | Acc train: 0.5000000 | Acc validation: 0.3833333 | Acc test: 0.5166667\n",
      "Iter:    30 | Cost: 0.2379207 | Acc train: 0.5000000 | Acc validation: 0.3833333 | Acc test: 0.5166667\n"
     ]
    }
   ],
   "source": [
    "lossplot = []\n",
    "train_acc, train_val_acc, test_acc = [], [], []\n",
    "for it in range(30):\n",
    "\n",
    "    #Update the weights by one optimizer step\n",
    "    batch_index = np.random.randint(0, num_train, (batch_size,))\n",
    "    X_batch = X_train[batch_index]\n",
    "    Y_batch = y_train[batch_index]\n",
    "    weights, bias, _, _ = opt.step(cost, weights, bias, X_batch, Y_batch)\n",
    "    \n",
    "    # Compute predictions on train, validation and train set\n",
    "    predictions_train = [np.sign(variational_classifier(weights, bias, x=x)) for x in X_train]\n",
    "    predictions_val =  [np.sign(variational_classifier(weights, bias, x=x)) for x in X_val]\n",
    "    predictions_test =  [np.sign(variational_classifier(weights, bias, x=x)) for x in X_test]\n",
    "\n",
    "\n",
    "    # Compute accuracy on train, validation and test set\n",
    "    acc_train = accuracy(y_train, predictions_train)\n",
    "    acc_val = accuracy(y_val, predictions_val)\n",
    "    acc_test = accuracy(y_test, predictions_test)\n",
    "\n",
    "    print(\"Iter: {:5d} | Cost: {:0.7f} | Acc train: {:0.7f} | Acc validation: {:0.7f} | Acc test: {:0.7f}\"\n",
    "        \"\".format(it + 1, cost(weights, bias, X_batch, Y_batch), acc_train, acc_val, acc_test))\n",
    "    lossplot.append(cost(weights, bias, X_batch, Y_batch))\n",
    "    train_acc.append(acc_train)\n",
    "    train_val_acc.append(acc_val)\n",
    "    test_acc.append(acc_test)"
   ]
  },
  {
   "cell_type": "code",
   "execution_count": 19,
   "id": "28498fd6",
   "metadata": {},
   "outputs": [
    {
     "data": {
      "image/png": "[encoded data removed]",
      "text/plain": [
       "<Figure size 432x288 with 2 Axes>"
      ]
     },
     "metadata": {
      "needs_background": "light"
     },
     "output_type": "display_data"
    },
    {
     "data": {
      "image/png": "[encoded data removed]",
      "text/plain": [
       "<Figure size 432x288 with 1 Axes>"
      ]
     },
     "metadata": {
      "needs_background": "light"
     },
     "output_type": "display_data"
    }
   ],
   "source": [
    "fig, ax1 = plt.subplots()\n",
    "iters = np.arange(0, 30, 1)\n",
    "colors = [\"tab:red\", \"tab:blue\"]\n",
    "ax1.set_xlabel(\"Iteration\", fontsize=17)\n",
    "ax1.set_ylabel(\"Lost\", fontsize=17, color=colors[0])\n",
    "ax1.plot(iters, lossplot, color=colors[0], linewidth=4)\n",
    "ax1.tick_params(axis=\"y\", labelsize=14, labelcolor=colors[0])\n",
    "\n",
    "ax2 = ax1.twinx()\n",
    "ax2.set_ylabel(\"Test Acc.\", fontsize=17, color=colors[1])\n",
    "ax2.plot(iters, test_acc, color=colors[1], linewidth=4)\n",
    "\n",
    "ax2.tick_params(axis=\"x\", labelsize=14)\n",
    "ax2.tick_params(axis=\"y\", labelsize=14, labelcolor=colors[1])\n",
    "\n",
    "plt.grid(False)\n",
    "\n",
    "plt.show()\n",
    "\n",
    "plt.plot(train_acc,'r',label=\"train\")\n",
    "plt.plot(test_acc,'b',label=\"test\")\n",
    "plt.ylabel('accuracy')\n",
    "plt.legend()\n",
    "plt.show()\n"
   ]
  },
  {
   "cell_type": "code",
   "execution_count": 20,
   "id": "9464cc27",
   "metadata": {},
   "outputs": [
    {
     "name": "stdout",
     "output_type": "stream",
     "text": [
      "[[ 0 58]\n",
      " [ 0 62]]\n"
     ]
    }
   ],
   "source": [
    "print(metrics.confusion_matrix(y_test,predictions_test))"
   ]
  },
  {
   "cell_type": "markdown",
   "id": "0c37ab7b",
   "metadata": {},
   "source": []
  }
 ],
 "metadata": {
  "kernelspec": {
   "display_name": "Python 3 (ipykernel)",
   "language": "python",
   "name": "python3"
  },
  "language_info": {
   "codemirror_mode": {
    "name": "ipython",
    "version": 3
   },
   "file_extension": ".py",
   "mimetype": "text/x-python",
   "name": "python",
   "nbconvert_exporter": "python",
   "pygments_lexer": "ipython3",
   "version": "3.9.7"
  }
 },
 "nbformat": 4,
 "nbformat_minor": 5
}
