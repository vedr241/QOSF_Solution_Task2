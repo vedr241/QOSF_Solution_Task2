{
 "cells": [
  {
   "cell_type": "markdown",
   "id": "1f9c1fa2",
   "metadata": {},
   "source": [
    "QOSF Sceening Task 2 solution - Vedant Dwivedi "
   ]
  },
  {
   "cell_type": "markdown",
   "id": "cea2e2e6",
   "metadata": {},
   "source": [
    "Imports"
   ]
  },
  {
   "cell_type": "code",
   "execution_count": null,
   "id": "f6bfa89d",
   "metadata": {},
   "outputs": [],
   "source": [
    "import pennylane as qml\n",
    "\n",
    "from pennylane import numpy as np\n",
    "from pennylane.templates.embeddings import AmplitudeEmbedding, AngleEmbedding\n",
    "from pennylane.templates.layers import StronglyEntanglingLayers\n",
    "from pennylane.optimize import NesterovMomentumOptimizer , GradientDescentOptimizer, AdamOptimizer\n",
    "from pennylane.init import strong_ent_layers_uniform\n",
    "import torch\n",
    "from torch.autograd import Variable\n",
    "from sklearn.preprocessing import minmax_scale\n",
    "from sklearn.model_selection import train_test_split\n",
    "import sklearn.metrics as metrics\n",
    "from itertools import chain\n",
    "import matplotlib.pyplot as plt"
   ]
  },
  {
   "cell_type": "markdown",
   "id": "18019fe8",
   "metadata": {},
   "source": [
    "Data import, preprocessing and splitting"
   ]
  },
  {
   "cell_type": "code",
   "execution_count": null,
   "id": "81d4d5a5",
   "metadata": {},
   "outputs": [],
   "source": [
    "# load the training dataset\n",
    "data_train=np.loadtxt('/Users/apple/variational_classifer/data/mock_train_set.csv', delimiter=',', skiprows=1)"
   ]
  },
  {
   "cell_type": "code",
   "execution_count": null,
   "id": "0af7296c",
   "metadata": {},
   "outputs": [],
   "source": [
    "# uses the column 4  as the target and use the data from column0 to column3 \n",
    "X = data_train[:, 0:4]\n",
    "y = data_train[:,4]"
   ]
  },
  {
   "cell_type": "code",
   "execution_count": null,
   "id": "2caea527",
   "metadata": {},
   "outputs": [],
   "source": []
  },
  {
   "cell_type": "code",
   "execution_count": null,
   "id": "7cc21d09",
   "metadata": {},
   "outputs": [],
   "source": [
    "# normalize data\n",
    "X = minmax_scale(X, feature_range=(0, np.pi))"
   ]
  },
  {
   "cell_type": "code",
   "execution_count": null,
   "id": "2c9a83a0",
   "metadata": {},
   "outputs": [],
   "source": [
    "feature_size= X.shape[1]\n",
    "batch_size = 14\n",
    "num_qubits = feature_size\n",
    "num_layers = 3\n",
    "num_data = len(y)\n",
    "num_train = int(0.80 * num_data)"
   ]
  },
  {
   "cell_type": "code",
   "execution_count": null,
   "id": "c498e2ff",
   "metadata": {},
   "outputs": [],
   "source": [
    "#split into train and validation\n",
    "np.random.seed(0)\n",
    "index = np.random.permutation(range(num_data))\n",
    "\n",
    "X_train = X[index[:num_train]]\n",
    "y_train = y[index[:num_train]]\n",
    "X_val = X[index[num_train:]]\n",
    "y_val = y[index[num_train:]]"
   ]
  },
  {
   "cell_type": "markdown",
   "id": "3711b4bd",
   "metadata": {},
   "source": [
    "Building the quantum classifier"
   ]
  },
  {
   "cell_type": "code",
   "execution_count": null,
   "id": "2e944e2f",
   "metadata": {},
   "outputs": [],
   "source": [
    "# quantum device handle\n",
    "dev = qml.device(\"default.qubit\", wires=num_qubits)"
   ]
  },
  {
   "cell_type": "code",
   "execution_count": null,
   "id": "800e8920",
   "metadata": {},
   "outputs": [],
   "source": [
    "#def layer(W):\n",
    " #   for i in range(num_qubits):\n",
    "  #      qml.Rot(W[i, 0], W[i, 1], W[i, 2], wires=i)\n",
    "   # for j in range(num_qubits - 1):\n",
    "    #    qml.CNOT(wires=[j, j + 1])\n",
    "    #if num_qubits >= 2:\n",
    "     #   # Apply additional CNOT to entangle the last with the first qubit\n",
    "      #  qml.CNOT(wires=[num_qubits - 1, 0])"
   ]
  },
  {
   "cell_type": "code",
   "execution_count": null,
   "id": "d3d30cb6",
   "metadata": {},
   "outputs": [],
   "source": [
    "@qml.qnode(dev)\n",
    "def circuit(weights, x=None):\n",
    "    qml.templates.AngleEmbedding(x, wires=range(num_qubits),rotation='Y')\n",
    "    qml.templates.StronglyEntanglingLayers(weights, wires=range(num_qubits),imprimitive=qml.CZ)\n",
    "   #for W in weights:\n",
    "    #    layer(W)\n",
    "    return qml.expval(qml.PauliZ(0))"
   ]
  },
  {
   "cell_type": "code",
   "execution_count": null,
   "id": "b123dbb7",
   "metadata": {},
   "outputs": [],
   "source": [
    "def variational_classifier(weights, bias, x=None):\n",
    "    return circuit(weights, x=x) + bias"
   ]
  },
  {
   "cell_type": "code",
   "execution_count": null,
   "id": "07feb072",
   "metadata": {},
   "outputs": [],
   "source": [
    "def cost(weights, bias, X, expectations):\n",
    "    e_predicted = [variational_classifier(weights, bias, x=x) for x in X]\n",
    "    return square_loss(expectations,e_predicted)\n",
    "\n",
    "def square_loss(expectations, e_predicted):\n",
    "    loss = 0\n",
    "    for l, p in zip(expectations, e_predicted):\n",
    "        loss = loss + (l - p) ** 2\n",
    "\n",
    "    loss = loss / len(expectations)\n",
    "    return loss"
   ]
  },
  {
   "cell_type": "code",
   "execution_count": null,
   "id": "01c19d4a",
   "metadata": {},
   "outputs": [],
   "source": [
    "def accuracy(expectations, e_predicted):\n",
    "\n",
    "    loss = 0\n",
    "    for l, p in zip(expectations, e_predicted):\n",
    "        if abs(l - p) < 1e-5:\n",
    "            loss = loss + 1\n",
    "    loss = loss / len(expectations)\n",
    "\n",
    "    return loss"
   ]
  },
  {
   "cell_type": "markdown",
   "id": "bd58920f",
   "metadata": {},
   "source": [
    "Training and Inference"
   ]
  },
  {
   "cell_type": "code",
   "execution_count": null,
   "id": "59bf65e3",
   "metadata": {},
   "outputs": [],
   "source": [
    "#draw random quantum node weights----------\n",
    "#weights_init = 0.01 * np.random.randn(num_layers, num_qubits, 3, requires_grad=True)\n",
    "#bias_init = np.array(0.0, requires_grad=True)"
   ]
  },
  {
   "cell_type": "code",
   "execution_count": null,
   "id": "97a21ce9",
   "metadata": {},
   "outputs": [],
   "source": [
    "#draw random quantum node weights----------\n",
    "weights_init = strong_ent_layers_uniform(num_layers, num_qubits, seed=42)\n",
    "bias_init = 0.0\n",
    "weights = weights_init\n",
    "bias = bias_init"
   ]
  },
  {
   "cell_type": "code",
   "execution_count": null,
   "id": "3069947d",
   "metadata": {},
   "outputs": [],
   "source": [
    "#build the optimizer object-------------------\n",
    "opt = AdamOptimizer(0.1, beta1=0.9, beta2=0.999)\n",
    "#opt = NesterovMomentumOptimizer(0.2)\n",
    "#opt = GradientDescentOptimizer(0.2)"
   ]
  },
  {
   "cell_type": "code",
   "execution_count": null,
   "id": "dde5fd0a",
   "metadata": {},
   "outputs": [],
   "source": [
    "lossplot = []\n",
    "train_acc, train_val_acc = [], []\n",
    "for it in range(30):\n",
    "\n",
    "    #Update the weights by one optimizer step\n",
    "    batch_index = np.random.randint(0, num_train, (batch_size,))\n",
    "    X_batch = X_train[batch_index]\n",
    "    Y_batch = y_train[batch_index]\n",
    "    weights, bias, _, _ = opt.step(cost, weights, bias, X_batch, Y_batch)\n",
    "    \n",
    "    # Compute predictions on train, validation and train set\n",
    "    predictions_train = [np.sign(variational_classifier(weights, bias, x=x)) for x in X_train]\n",
    "    predictions_val =  [np.sign(variational_classifier(weights, bias, x=x)) for x in X_val]\n",
    "\n",
    "\n",
    "    # Compute accuracy on train, validation and test set\n",
    "    acc_train = accuracy(y_train, predictions_train)\n",
    "    acc_val = accuracy(y_val, predictions_val)\n",
    "\n",
    "    print(\"Iter: {:5d} | Cost: {:0.7f} | Acc train: {:0.7f} | Acc validation: {:0.7f} \"\n",
    "        \"\".format(it + 1, cost(weights, bias, X_batch, Y_batch), acc_train, acc_val, acc_test))\n",
    "    lossplot.append(cost(weights, bias, X_batch, Y_batch))\n",
    "    train_acc.append(acc_train)\n",
    "    train_val_acc.append(acc_val)"
   ]
  },
  {
   "cell_type": "code",
   "execution_count": null,
   "id": "28498fd6",
   "metadata": {},
   "outputs": [],
   "source": [
    "fig, ax1 = plt.subplots()\n",
    "iters = np.arange(0, 30, 1)\n",
    "colors = [\"tab:red\", \"tab:blue\"]\n",
    "ax1.set_xlabel(\"Iteration\", fontsize=17)\n",
    "ax1.set_ylabel(\"Lost\", fontsize=17, color=colors[0])\n",
    "ax1.plot(iters, lossplot, color=colors[0], linewidth=4)\n",
    "ax1.tick_params(axis=\"y\", labelsize=14, labelcolor=colors[0])\n",
    "\n",
    "ax2 = ax1.twinx()\n",
    "ax2.set_ylabel(\"Train Acc.\", fontsize=17, color=colors[1])\n",
    "ax2.plot(iters, train_acc, color=colors[1], linewidth=4)\n",
    "\n",
    "ax2.tick_params(axis=\"x\", labelsize=14)\n",
    "ax2.tick_params(axis=\"y\", labelsize=14, labelcolor=colors[1])\n",
    "\n",
    "plt.grid(False)\n",
    "\n",
    "plt.show()\n",
    "\n",
    "plt.plot(train_acc,'r',label=\"train\")\n",
    "plt.plot(test_val_acc,'b',label=\"test\")\n",
    "plt.ylabel('accuracy')\n",
    "plt.legend()\n",
    "plt.show()\n"
   ]
  },
  {
   "cell_type": "code",
   "execution_count": null,
   "id": "9464cc27",
   "metadata": {},
   "outputs": [],
   "source": [
    "print(metrics.confusion_matrix(y_test,predictions_test))"
   ]
  },
  {
   "cell_type": "markdown",
   "id": "fb61f24a",
   "metadata": {},
   "source": [
    "Data import, preprocessing and splitting"
   ]
  },
  {
   "cell_type": "code",
   "execution_count": null,
   "id": "5559f9e5",
   "metadata": {},
   "outputs": [],
   "source": [
    "# load the testing dataset\n",
    "data_test=np.loadtxt('/Users/apple/variational_classifer/data/mock_test_set.csv', delimiter=',', skiprows=1)"
   ]
  },
  {
   "cell_type": "code",
   "execution_count": null,
   "id": "0af7296c",
   "metadata": {},
   "outputs": [],
   "source": [
    "# uses the column 4  as the target and use the data from column0 to column3 \n",
    "X_test = data_test[:, 0:4]\n",
    "y_test = data_test[:,4]"
   ]
  },
  {
   "cell_type": "code",
   "execution_count": null,
   "id": "2caea527",
   "metadata": {},
   "outputs": [],
   "source": [
    "X = data_train[:, 0:4]\n",
    "y = data_train[:,4]"
   ]
  },
  {
   "cell_type": "code",
   "execution_count": null,
   "id": "7cc21d09",
   "metadata": {},
   "outputs": [],
   "source": [
    "# normalize data\n",
    "X = minmax_scale(X, feature_range=(0, np.pi))\n",
    "X_test = minmax_scale(X_test, feature_range=(0, np.pi))"
   ]
  },
  {
   "cell_type": "code",
   "execution_count": null,
   "id": "2c9a83a0",
   "metadata": {},
   "outputs": [],
   "source": [
    "feature_size= X.shape[1]\n",
    "batch_size = 14\n",
    "num_qubits = feature_size\n",
    "num_layers = 3\n",
    "num_data = len(y)\n",
    "num_train = int(0.80 * num_data)"
   ]
  },
  {
   "cell_type": "code",
   "execution_count": null,
   "id": "c498e2ff",
   "metadata": {},
   "outputs": [],
   "source": [
    "#split into train and validation\n",
    "np.random.seed(0)\n",
    "index = np.random.permutation(range(num_data))\n",
    "\n",
    "X_train = X[index[:num_train]]\n",
    "y_train = y[index[:num_train]]\n",
    "X_val = X[index[num_train:]]\n",
    "y_val = y[index[num_train:]]"
   ]
  },
  {
   "cell_type": "markdown",
   "id": "3711b4bd",
   "metadata": {},
   "source": [
    "Building the quantum classifier"
   ]
  },
  {
   "cell_type": "code",
   "execution_count": null,
   "id": "2e944e2f",
   "metadata": {},
   "outputs": [],
   "source": [
    "# quantum device handle\n",
    "dev = qml.device(\"default.qubit\", wires=num_qubits)"
   ]
  },
  {
   "cell_type": "code",
   "execution_count": null,
   "id": "800e8920",
   "metadata": {},
   "outputs": [],
   "source": [
    "#def layer(W):\n",
    " #   for i in range(num_qubits):\n",
    "  #      qml.Rot(W[i, 0], W[i, 1], W[i, 2], wires=i)\n",
    "   # for j in range(num_qubits - 1):\n",
    "    #    qml.CNOT(wires=[j, j + 1])\n",
    "    #if num_qubits >= 2:\n",
    "     #   # Apply additional CNOT to entangle the last with the first qubit\n",
    "      #  qml.CNOT(wires=[num_qubits - 1, 0])"
   ]
  },
  {
   "cell_type": "code",
   "execution_count": null,
   "id": "d3d30cb6",
   "metadata": {},
   "outputs": [],
   "source": [
    "@qml.qnode(dev)\n",
    "def circuit(weights, x=None):\n",
    "    qml.templates.AngleEmbedding(x, wires=range(num_qubits),rotation='Y')\n",
    "    qml.templates.StronglyEntanglingLayers(weights, wires=range(num_qubits),imprimitive=qml.CZ)\n",
    "   #for W in weights:\n",
    "    #    layer(W)\n",
    "    return qml.expval(qml.PauliZ(0))"
   ]
  },
  {
   "cell_type": "code",
   "execution_count": null,
   "id": "b123dbb7",
   "metadata": {},
   "outputs": [],
   "source": [
    "def variational_classifier(weights, bias, x=None):\n",
    "    return circuit(weights, x=x) + bias"
   ]
  },
  {
   "cell_type": "code",
   "execution_count": null,
   "id": "07feb072",
   "metadata": {},
   "outputs": [],
   "source": [
    "def cost(weights, bias, X, expectations):\n",
    "    e_predicted = [variational_classifier(weights, bias, x=x) for x in X]\n",
    "    return square_loss(expectations,e_predicted)\n",
    "\n",
    "def square_loss(expectations, e_predicted):\n",
    "    loss = 0\n",
    "    for l, p in zip(expectations, e_predicted):\n",
    "        loss = loss + (l - p) ** 2\n",
    "\n",
    "    loss = loss / len(expectations)\n",
    "    return loss"
   ]
  },
  {
   "cell_type": "code",
   "execution_count": null,
   "id": "01c19d4a",
   "metadata": {},
   "outputs": [],
   "source": [
    "def accuracy(expectations, e_predicted):\n",
    "\n",
    "    loss = 0\n",
    "    for l, p in zip(expectations, e_predicted):\n",
    "        if abs(l - p) < 1e-5:\n",
    "            loss = loss + 1\n",
    "    loss = loss / len(expectations)\n",
    "\n",
    "    return loss"
   ]
  },
  {
   "cell_type": "markdown",
   "id": "bd58920f",
   "metadata": {},
   "source": [
    "Training and Inference"
   ]
  },
  {
   "cell_type": "code",
   "execution_count": null,
   "id": "59bf65e3",
   "metadata": {},
   "outputs": [],
   "source": [
    "#draw random quantum node weights----------\n",
    "#weights_init = 0.01 * np.random.randn(num_layers, num_qubits, 3, requires_grad=True)\n",
    "#bias_init = np.array(0.0, requires_grad=True)"
   ]
  },
  {
   "cell_type": "code",
   "execution_count": null,
   "id": "97a21ce9",
   "metadata": {},
   "outputs": [],
   "source": [
    "#draw random quantum node weights----------\n",
    "weights_init = strong_ent_layers_uniform(num_layers, num_qubits, seed=42)\n",
    "bias_init = 0.0\n",
    "weights = weights_init\n",
    "bias = bias_init"
   ]
  },
  {
   "cell_type": "code",
   "execution_count": null,
   "id": "3069947d",
   "metadata": {},
   "outputs": [],
   "source": [
    "#build the optimizer object-------------------\n",
    "opt = AdamOptimizer(0.1, beta1=0.9, beta2=0.999)\n",
    "#opt = NesterovMomentumOptimizer(0.2)\n",
    "#opt = GradientDescentOptimizer(0.2)"
   ]
  },
  {
   "cell_type": "code",
   "execution_count": null,
   "id": "dde5fd0a",
   "metadata": {},
   "outputs": [],
   "source": [
    "lossplot = []\n",
    "train_acc, train_val_acc, test_acc = [], [], []\n",
    "for it in range(30):\n",
    "\n",
    "    #Update the weights by one optimizer step\n",
    "    batch_index = np.random.randint(0, num_train, (batch_size,))\n",
    "    X_batch = X_train[batch_index]\n",
    "    Y_batch = y_train[batch_index]\n",
    "    weights, bias, _, _ = opt.step(cost, weights, bias, X_batch, Y_batch)\n",
    "    \n",
    "    # Compute predictions on train, validation and train set\n",
    "    predictions_train = [np.sign(variational_classifier(weights, bias, x=x)) for x in X_train]\n",
    "    predictions_val =  [np.sign(variational_classifier(weights, bias, x=x)) for x in X_val]\n",
    "    predictions_test =  [np.sign(variational_classifier(weights, bias, x=x)) for x in X_test]\n",
    "\n",
    "\n",
    "    # Compute accuracy on train, validation and test set\n",
    "    acc_train = accuracy(y_train, predictions_train)\n",
    "    acc_val = accuracy(y_val, predictions_val)\n",
    "    acc_test = accuracy(y_test, predictions_test)\n",
    "\n",
    "    print(\"Iter: {:5d} | Cost: {:0.7f} | Acc train: {:0.7f} | Acc validation: {:0.7f} | Acc test: {:0.7f}\"\n",
    "        \"\".format(it + 1, cost(weights, bias, X_batch, Y_batch), acc_train, acc_val, acc_test))\n",
    "    lossplot.append(cost(weights, bias, X_batch, Y_batch))\n",
    "    train_acc.append(acc_train)\n",
    "    train_val_acc.append(acc_val)\n",
    "    test_acc.append(acc_test)"
   ]
  },
  {
   "cell_type": "code",
   "execution_count": null,
   "id": "28498fd6",
   "metadata": {},
   "outputs": [],
   "source": [
    "fig, ax1 = plt.subplots()\n",
    "iters = np.arange(0, 30, 1)\n",
    "colors = [\"tab:red\", \"tab:blue\"]\n",
    "ax1.set_xlabel(\"Iteration\", fontsize=17)\n",
    "ax1.set_ylabel(\"Lost\", fontsize=17, color=colors[0])\n",
    "ax1.plot(iters, lossplot, color=colors[0], linewidth=4)\n",
    "ax1.tick_params(axis=\"y\", labelsize=14, labelcolor=colors[0])\n",
    "\n",
    "ax2 = ax1.twinx()\n",
    "ax2.set_ylabel(\"Test Acc.\", fontsize=17, color=colors[1])\n",
    "ax2.plot(iters, test_acc, color=colors[1], linewidth=4)\n",
    "\n",
    "ax2.tick_params(axis=\"x\", labelsize=14)\n",
    "ax2.tick_params(axis=\"y\", labelsize=14, labelcolor=colors[1])\n",
    "\n",
    "plt.grid(False)\n",
    "\n",
    "plt.show()\n",
    "\n",
    "plt.plot(train_acc,'r',label=\"train\")\n",
    "plt.plot(test_acc,'b',label=\"test\")\n",
    "plt.ylabel('accuracy')\n",
    "plt.legend()\n",
    "plt.show()\n"
   ]
  },
  {
   "cell_type": "code",
   "execution_count": null,
   "id": "9464cc27",
   "metadata": {},
   "outputs": [],
   "source": [
    "print(metrics.confusion_matrix(y_test,predictions_test))"
   ]
  },
  {
   "cell_type": "code",
   "execution_count": null,
   "id": "0552d6ea",
   "metadata": {},
   "outputs": [],
   "source": []
  },
  {
   "cell_type": "markdown",
   "id": "0c37ab7b",
   "metadata": {},
   "source": []
  }
 ],
 "metadata": {
  "kernelspec": {
   "display_name": "Python 3 (ipykernel)",
   "language": "python",
   "name": "python3"
  },
  "language_info": {
   "codemirror_mode": {
    "name": "ipython",
    "version": 3
   },
   "file_extension": ".py",
   "mimetype": "text/x-python",
   "name": "python",
   "nbconvert_exporter": "python",
   "pygments_lexer": "ipython3",
   "version": "3.9.7"
  }
 },
 "nbformat": 4,
 "nbformat_minor": 5
}
