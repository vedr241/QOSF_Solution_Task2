{
 "cells": [
  {
   "cell_type": "markdown",
   "id": "bf0a41bf",
   "metadata": {},
   "source": [
    "Testing binary classifer on given data sets using \n",
    "https://github.com/nsansen/Quantum-Machine-Learning/blob/main/VCDR_ST2_-pi_pi.ipynb"
   ]
  },
  {
   "cell_type": "markdown",
   "id": "21730ca8",
   "metadata": {},
   "source": [
    "Training the Training Data Set"
   ]
  },
  {
   "cell_type": "code",
   "execution_count": 1,
   "id": "46a505c5",
   "metadata": {},
   "outputs": [
    {
     "name": "stderr",
     "output_type": "stream",
     "text": [
      "/var/folders/ct/dqdky4352zx_f2qfwpf8xq840000gn/T/ipykernel_19508/2279458971.py:75: UserWarning: The init module will be deprecated soon, since templates can now provide a method that returns the shape of parameter tensors.\n",
      "  theta_weights = strong_ent_layers_uniform(n_layers, n_qubits, seed=42)\n",
      "/Users/apple/opt/anaconda3/lib/python3.9/site-packages/pennylane/_grad.py:95: UserWarning: Starting with PennyLane v0.20.0, when using Autograd, inputs have to explicitly specify requires_grad=True (or the argnum argument must be passed) in order for trainable parameters to be identified.\n",
      "  warnings.warn(\n"
     ]
    },
    {
     "name": "stdout",
     "output_type": "stream",
     "text": [
      "It 1 out of 240 loss:  1.1487327195665813  : Acc train:  0.11  : Acc test :  0.183\n"
     ]
    },
    {
     "name": "stderr",
     "output_type": "stream",
     "text": [
      "/Users/apple/opt/anaconda3/lib/python3.9/site-packages/pennylane/_grad.py:95: UserWarning: Starting with PennyLane v0.20.0, when using Autograd, inputs have to explicitly specify requires_grad=True (or the argnum argument must be passed) in order for trainable parameters to be identified.\n",
      "  warnings.warn(\n"
     ]
    },
    {
     "name": "stdout",
     "output_type": "stream",
     "text": [
      "It 11 out of 240 loss:  0.770301262510488  : Acc train:  0.11  : Acc test :  0.183\n"
     ]
    },
    {
     "name": "stderr",
     "output_type": "stream",
     "text": [
      "/Users/apple/opt/anaconda3/lib/python3.9/site-packages/pennylane/_grad.py:95: UserWarning: Starting with PennyLane v0.20.0, when using Autograd, inputs have to explicitly specify requires_grad=True (or the argnum argument must be passed) in order for trainable parameters to be identified.\n",
      "  warnings.warn(\n"
     ]
    },
    {
     "name": "stdout",
     "output_type": "stream",
     "text": [
      "It 21 out of 240 loss:  0.9478739163935364  : Acc train:  0.14  : Acc test :  0.217\n"
     ]
    },
    {
     "name": "stderr",
     "output_type": "stream",
     "text": [
      "/Users/apple/opt/anaconda3/lib/python3.9/site-packages/pennylane/_grad.py:95: UserWarning: Starting with PennyLane v0.20.0, when using Autograd, inputs have to explicitly specify requires_grad=True (or the argnum argument must be passed) in order for trainable parameters to be identified.\n",
      "  warnings.warn(\n"
     ]
    },
    {
     "name": "stdout",
     "output_type": "stream",
     "text": [
      "It 31 out of 240 loss:  1.237958793996252  : Acc train:  0.13  : Acc test :  0.2\n"
     ]
    },
    {
     "name": "stderr",
     "output_type": "stream",
     "text": [
      "/Users/apple/opt/anaconda3/lib/python3.9/site-packages/pennylane/_grad.py:95: UserWarning: Starting with PennyLane v0.20.0, when using Autograd, inputs have to explicitly specify requires_grad=True (or the argnum argument must be passed) in order for trainable parameters to be identified.\n",
      "  warnings.warn(\n"
     ]
    },
    {
     "name": "stdout",
     "output_type": "stream",
     "text": [
      "It 41 out of 240 loss:  0.7588542220861648  : Acc train:  0.14  : Acc test :  0.2\n"
     ]
    },
    {
     "name": "stderr",
     "output_type": "stream",
     "text": [
      "/Users/apple/opt/anaconda3/lib/python3.9/site-packages/pennylane/_grad.py:95: UserWarning: Starting with PennyLane v0.20.0, when using Autograd, inputs have to explicitly specify requires_grad=True (or the argnum argument must be passed) in order for trainable parameters to be identified.\n",
      "  warnings.warn(\n"
     ]
    },
    {
     "name": "stdout",
     "output_type": "stream",
     "text": [
      "It 51 out of 240 loss:  0.8361703051592585  : Acc train:  0.14  : Acc test :  0.183\n"
     ]
    },
    {
     "name": "stderr",
     "output_type": "stream",
     "text": [
      "/Users/apple/opt/anaconda3/lib/python3.9/site-packages/pennylane/_grad.py:95: UserWarning: Starting with PennyLane v0.20.0, when using Autograd, inputs have to explicitly specify requires_grad=True (or the argnum argument must be passed) in order for trainable parameters to be identified.\n",
      "  warnings.warn(\n"
     ]
    },
    {
     "name": "stdout",
     "output_type": "stream",
     "text": [
      "It 61 out of 240 loss:  0.9193033757483793  : Acc train:  0.16  : Acc test :  0.167\n"
     ]
    },
    {
     "name": "stderr",
     "output_type": "stream",
     "text": [
      "/Users/apple/opt/anaconda3/lib/python3.9/site-packages/pennylane/_grad.py:95: UserWarning: Starting with PennyLane v0.20.0, when using Autograd, inputs have to explicitly specify requires_grad=True (or the argnum argument must be passed) in order for trainable parameters to be identified.\n",
      "  warnings.warn(\n"
     ]
    },
    {
     "name": "stdout",
     "output_type": "stream",
     "text": [
      "It 71 out of 240 loss:  0.9041522090595302  : Acc train:  0.18  : Acc test :  0.2\n"
     ]
    },
    {
     "name": "stderr",
     "output_type": "stream",
     "text": [
      "/Users/apple/opt/anaconda3/lib/python3.9/site-packages/pennylane/_grad.py:95: UserWarning: Starting with PennyLane v0.20.0, when using Autograd, inputs have to explicitly specify requires_grad=True (or the argnum argument must be passed) in order for trainable parameters to be identified.\n",
      "  warnings.warn(\n"
     ]
    },
    {
     "name": "stdout",
     "output_type": "stream",
     "text": [
      "It 81 out of 240 loss:  1.1263755214321236  : Acc train:  0.18  : Acc test :  0.183\n"
     ]
    },
    {
     "name": "stderr",
     "output_type": "stream",
     "text": [
      "/Users/apple/opt/anaconda3/lib/python3.9/site-packages/pennylane/_grad.py:95: UserWarning: Starting with PennyLane v0.20.0, when using Autograd, inputs have to explicitly specify requires_grad=True (or the argnum argument must be passed) in order for trainable parameters to be identified.\n",
      "  warnings.warn(\n"
     ]
    },
    {
     "name": "stdout",
     "output_type": "stream",
     "text": [
      "It 91 out of 240 loss:  1.1462142659074783  : Acc train:  0.2  : Acc test :  0.183\n"
     ]
    },
    {
     "name": "stderr",
     "output_type": "stream",
     "text": [
      "/Users/apple/opt/anaconda3/lib/python3.9/site-packages/pennylane/_grad.py:95: UserWarning: Starting with PennyLane v0.20.0, when using Autograd, inputs have to explicitly specify requires_grad=True (or the argnum argument must be passed) in order for trainable parameters to be identified.\n",
      "  warnings.warn(\n"
     ]
    },
    {
     "name": "stdout",
     "output_type": "stream",
     "text": [
      "It 101 out of 240 loss:  0.9731001734051239  : Acc train:  0.18  : Acc test :  0.183\n"
     ]
    },
    {
     "name": "stderr",
     "output_type": "stream",
     "text": [
      "/Users/apple/opt/anaconda3/lib/python3.9/site-packages/pennylane/_grad.py:95: UserWarning: Starting with PennyLane v0.20.0, when using Autograd, inputs have to explicitly specify requires_grad=True (or the argnum argument must be passed) in order for trainable parameters to be identified.\n",
      "  warnings.warn(\n"
     ]
    },
    {
     "name": "stdout",
     "output_type": "stream",
     "text": [
      "It 111 out of 240 loss:  0.7118959331233001  : Acc train:  0.18  : Acc test :  0.167\n"
     ]
    },
    {
     "name": "stderr",
     "output_type": "stream",
     "text": [
      "/Users/apple/opt/anaconda3/lib/python3.9/site-packages/pennylane/_grad.py:95: UserWarning: Starting with PennyLane v0.20.0, when using Autograd, inputs have to explicitly specify requires_grad=True (or the argnum argument must be passed) in order for trainable parameters to be identified.\n",
      "  warnings.warn(\n"
     ]
    },
    {
     "name": "stdout",
     "output_type": "stream",
     "text": [
      "It 121 out of 240 loss:  1.0463884102269778  : Acc train:  0.17  : Acc test :  0.183\n"
     ]
    },
    {
     "name": "stderr",
     "output_type": "stream",
     "text": [
      "/Users/apple/opt/anaconda3/lib/python3.9/site-packages/pennylane/_grad.py:95: UserWarning: Starting with PennyLane v0.20.0, when using Autograd, inputs have to explicitly specify requires_grad=True (or the argnum argument must be passed) in order for trainable parameters to be identified.\n",
      "  warnings.warn(\n"
     ]
    },
    {
     "name": "stdout",
     "output_type": "stream",
     "text": [
      "It 131 out of 240 loss:  0.8456344758508152  : Acc train:  0.18  : Acc test :  0.183\n"
     ]
    },
    {
     "name": "stderr",
     "output_type": "stream",
     "text": [
      "/Users/apple/opt/anaconda3/lib/python3.9/site-packages/pennylane/_grad.py:95: UserWarning: Starting with PennyLane v0.20.0, when using Autograd, inputs have to explicitly specify requires_grad=True (or the argnum argument must be passed) in order for trainable parameters to be identified.\n",
      "  warnings.warn(\n"
     ]
    },
    {
     "name": "stdout",
     "output_type": "stream",
     "text": [
      "It 141 out of 240 loss:  0.8319460139399407  : Acc train:  0.17  : Acc test :  0.183\n"
     ]
    },
    {
     "name": "stderr",
     "output_type": "stream",
     "text": [
      "/Users/apple/opt/anaconda3/lib/python3.9/site-packages/pennylane/_grad.py:95: UserWarning: Starting with PennyLane v0.20.0, when using Autograd, inputs have to explicitly specify requires_grad=True (or the argnum argument must be passed) in order for trainable parameters to be identified.\n",
      "  warnings.warn(\n"
     ]
    },
    {
     "name": "stdout",
     "output_type": "stream",
     "text": [
      "It 151 out of 240 loss:  1.1361874127179514  : Acc train:  0.18  : Acc test :  0.183\n"
     ]
    },
    {
     "name": "stderr",
     "output_type": "stream",
     "text": [
      "/Users/apple/opt/anaconda3/lib/python3.9/site-packages/pennylane/_grad.py:95: UserWarning: Starting with PennyLane v0.20.0, when using Autograd, inputs have to explicitly specify requires_grad=True (or the argnum argument must be passed) in order for trainable parameters to be identified.\n",
      "  warnings.warn(\n"
     ]
    },
    {
     "name": "stdout",
     "output_type": "stream",
     "text": [
      "It 161 out of 240 loss:  0.6346593090124163  : Acc train:  0.19  : Acc test :  0.183\n"
     ]
    },
    {
     "name": "stderr",
     "output_type": "stream",
     "text": [
      "/Users/apple/opt/anaconda3/lib/python3.9/site-packages/pennylane/_grad.py:95: UserWarning: Starting with PennyLane v0.20.0, when using Autograd, inputs have to explicitly specify requires_grad=True (or the argnum argument must be passed) in order for trainable parameters to be identified.\n",
      "  warnings.warn(\n"
     ]
    },
    {
     "name": "stdout",
     "output_type": "stream",
     "text": [
      "It 171 out of 240 loss:  0.8264676883172519  : Acc train:  0.19  : Acc test :  0.183\n"
     ]
    },
    {
     "name": "stderr",
     "output_type": "stream",
     "text": [
      "/Users/apple/opt/anaconda3/lib/python3.9/site-packages/pennylane/_grad.py:95: UserWarning: Starting with PennyLane v0.20.0, when using Autograd, inputs have to explicitly specify requires_grad=True (or the argnum argument must be passed) in order for trainable parameters to be identified.\n",
      "  warnings.warn(\n"
     ]
    },
    {
     "name": "stdout",
     "output_type": "stream",
     "text": [
      "It 181 out of 240 loss:  0.9154739635417022  : Acc train:  0.2  : Acc test :  0.183\n"
     ]
    },
    {
     "name": "stderr",
     "output_type": "stream",
     "text": [
      "/Users/apple/opt/anaconda3/lib/python3.9/site-packages/pennylane/_grad.py:95: UserWarning: Starting with PennyLane v0.20.0, when using Autograd, inputs have to explicitly specify requires_grad=True (or the argnum argument must be passed) in order for trainable parameters to be identified.\n",
      "  warnings.warn(\n"
     ]
    },
    {
     "name": "stdout",
     "output_type": "stream",
     "text": [
      "It 191 out of 240 loss:  0.9244466441339864  : Acc train:  0.2  : Acc test :  0.183\n"
     ]
    },
    {
     "name": "stderr",
     "output_type": "stream",
     "text": [
      "/Users/apple/opt/anaconda3/lib/python3.9/site-packages/pennylane/_grad.py:95: UserWarning: Starting with PennyLane v0.20.0, when using Autograd, inputs have to explicitly specify requires_grad=True (or the argnum argument must be passed) in order for trainable parameters to be identified.\n",
      "  warnings.warn(\n"
     ]
    },
    {
     "name": "stdout",
     "output_type": "stream",
     "text": [
      "It 201 out of 240 loss:  0.872021809279642  : Acc train:  0.2  : Acc test :  0.167\n"
     ]
    },
    {
     "name": "stderr",
     "output_type": "stream",
     "text": [
      "/Users/apple/opt/anaconda3/lib/python3.9/site-packages/pennylane/_grad.py:95: UserWarning: Starting with PennyLane v0.20.0, when using Autograd, inputs have to explicitly specify requires_grad=True (or the argnum argument must be passed) in order for trainable parameters to be identified.\n",
      "  warnings.warn(\n"
     ]
    },
    {
     "name": "stdout",
     "output_type": "stream",
     "text": [
      "It 211 out of 240 loss:  0.8937456949420808  : Acc train:  0.23  : Acc test :  0.183\n"
     ]
    },
    {
     "name": "stderr",
     "output_type": "stream",
     "text": [
      "/Users/apple/opt/anaconda3/lib/python3.9/site-packages/pennylane/_grad.py:95: UserWarning: Starting with PennyLane v0.20.0, when using Autograd, inputs have to explicitly specify requires_grad=True (or the argnum argument must be passed) in order for trainable parameters to be identified.\n",
      "  warnings.warn(\n"
     ]
    },
    {
     "name": "stdout",
     "output_type": "stream",
     "text": [
      "It 221 out of 240 loss:  0.8511398573530421  : Acc train:  0.19  : Acc test :  0.15\n"
     ]
    },
    {
     "name": "stderr",
     "output_type": "stream",
     "text": [
      "/Users/apple/opt/anaconda3/lib/python3.9/site-packages/pennylane/_grad.py:95: UserWarning: Starting with PennyLane v0.20.0, when using Autograd, inputs have to explicitly specify requires_grad=True (or the argnum argument must be passed) in order for trainable parameters to be identified.\n",
      "  warnings.warn(\n"
     ]
    },
    {
     "name": "stdout",
     "output_type": "stream",
     "text": [
      "It 231 out of 240 loss:  0.7936058555201728  : Acc train:  0.24  : Acc test :  0.183\n"
     ]
    },
    {
     "name": "stderr",
     "output_type": "stream",
     "text": [
      "/Users/apple/opt/anaconda3/lib/python3.9/site-packages/pennylane/_grad.py:95: UserWarning: Starting with PennyLane v0.20.0, when using Autograd, inputs have to explicitly specify requires_grad=True (or the argnum argument must be passed) in order for trainable parameters to be identified.\n",
      "  warnings.warn(\n"
     ]
    }
   ],
   "source": [
    "import pennylane as qml\n",
    "\n",
    "from pennylane import numpy as np\n",
    "from pennylane.templates.embeddings import AngleEmbedding\n",
    "from pennylane.templates.layers import StronglyEntanglingLayers\n",
    "from pennylane.optimize import GradientDescentOptimizer\n",
    "from pennylane.optimize import NesterovMomentumOptimizer\n",
    "from pennylane.init import strong_ent_layers_uniform\n",
    "import torch\n",
    "from torch.autograd import Variable\n",
    "from sklearn import datasets\n",
    "from sklearn.utils import shuffle\n",
    "from sklearn.preprocessing import minmax_scale\n",
    "from sklearn.model_selection import train_test_split\n",
    "import sklearn.metrics as metrics\n",
    "from itertools import chain\n",
    "import matplotlib.pyplot as plt\n",
    "import pandas as pd\n",
    "\n",
    "# load the dataset\n",
    "data_train=np.loadtxt('/Users/apple/variational_classifer/data/mock_train_set.csv', delimiter=',', skiprows=1)\n",
    "\n",
    "X = data_train[:, 0:4]\n",
    "y = data_train[:,4]\n",
    "\n",
    "# normalize data\n",
    "X = minmax_scale(X, feature_range=(0, np.pi))\n",
    "\n",
    "X_train, X_test, y_train, y_test = train_test_split(X, y, test_size=0.2, random_state=1)\n",
    "\n",
    "# number of qubits is equal to the number of features\n",
    "n_qubits = X.shape[1] \n",
    "\n",
    "# quantum device handle\n",
    "dev = qml.device(\"default.qubit\", wires=n_qubits)\n",
    "\n",
    "# quantum circuit\n",
    "@qml.qnode(dev)\n",
    "def circuit(weights, x=None):\n",
    "    AngleEmbedding(x, wires = range(n_qubits))\n",
    "    StronglyEntanglingLayers(weights, wires = range(n_qubits))\n",
    "    return qml.expval(qml.PauliZ(0))\n",
    "\n",
    "# variational quantum classifier\n",
    "def variational_classifier(theta, x=None):\n",
    "    weights = theta[0]\n",
    "    bias = theta[1]\n",
    "    return circuit(weights, x=x) + bias\n",
    "\n",
    "def cost(theta, X, expectations):\n",
    "    e_predicted = \\\n",
    "        np.array([variational_classifier(theta, x=x) for x in X])\n",
    "    loss = np.mean((e_predicted - expectations)**2)    \n",
    "    return loss\n",
    "\n",
    "# number of quantum layers\n",
    "n_layers = 3\n",
    "\n",
    "\n",
    "# convert classes to expectations: 0 to -1, 1 to +1\n",
    "e_train = np.empty_like(y_train)\n",
    "e_train[y_train == 0] = -1\n",
    "e_train[y_train == 1] = +1\n",
    "\n",
    "# select learning batch size\n",
    "batch_size = 5\n",
    "\n",
    "# calculate numbe of batches\n",
    "batches = len(X_train) // batch_size\n",
    "\n",
    "# select number of epochs\n",
    "n_epochs = 5\n",
    "\n",
    "# draw random quantum node weights\n",
    "theta_weights = strong_ent_layers_uniform(n_layers, n_qubits, seed=42)\n",
    "theta_bias = 0.0\n",
    "theta_init = (theta_weights, theta_bias) # initial weights\n",
    "\n",
    "# train the variational classifier\n",
    "theta = theta_init\n",
    "\n",
    "\n",
    "# build the optimizer object\n",
    "pennylane_opt = GradientDescentOptimizer()\n",
    "\n",
    "\n",
    "X_batches = np.array_split(np.arange(len(X_train)), batches)\n",
    "lossplot = []\n",
    "accuracytrainplot = []\n",
    "accuracytestplot = []\n",
    "for it, batch_index in enumerate(chain(*(n_epochs * [X_batches]))):\n",
    "    # Update the weights by one optimizer step\n",
    "    batch_cost = \\\n",
    "        lambda theta: cost(theta, X_train[batch_index], e_train[batch_index])\n",
    "    theta = pennylane_opt.step(batch_cost, theta)\n",
    "\n",
    "    if it % 10 == 0:\n",
    "        expectations = np.array([variational_classifier(theta, x=x) for x in X_train])\n",
    "        prob_class_one = (expectations + 1) / 2.0\n",
    "        prob_class_one = pd.DataFrame.from_dict(prob_class_one)\n",
    "        prob_class_one = prob_class_one.iloc[:, :]\n",
    "        prob_class_one = prob_class_one[0].apply(lambda x: -1 if x <= 0.5 else 1)\n",
    "        prob_class_one_T = prob_class_one.to_numpy()\n",
    "           \n",
    "        expectations = np.array([variational_classifier(theta, x=x) for x in X_test])\n",
    "        prob_class_one = (expectations + 1) / 2.0\n",
    "        prob_class_one = pd.DataFrame.from_dict(prob_class_one)\n",
    "        prob_class_one = prob_class_one.iloc[:, :]\n",
    "        prob_class_one = prob_class_one[0].apply(lambda x: -1 if x <= 0.5 else 1)\n",
    "        prob_class_one = prob_class_one.to_numpy()\n",
    "        \n",
    "        lossplot.append(cost(theta, X_train[batch_index], e_train[batch_index]))\n",
    "        accuracytrainplot.append(metrics.accuracy_score(y_train, prob_class_one_T))\n",
    "        accuracytestplot.append(metrics.accuracy_score(y_test, prob_class_one))\n",
    "        \n",
    "        #print(\"It\",it+1,\"out of\",len(X_batches) *n_epochs)#\n",
    "        print(\"It\",it+1,\"out of\",len(X_batches) *n_epochs, \"loss: \",cost(theta, X_train[batch_index], e_train[batch_index]),\n",
    "        \" : Acc train: \",round(metrics.accuracy_score(y_train, prob_class_one_T),2),\n",
    "        \" : Acc test : \",round(metrics.accuracy_score(y_test, prob_class_one),3))\n",
    "        if metrics.accuracy_score(y_train, prob_class_one_T) >= 0.97:\n",
    "                break"
   ]
  },
  {
   "cell_type": "code",
   "execution_count": 2,
   "id": "e06d23aa",
   "metadata": {},
   "outputs": [
    {
     "name": "stdout",
     "output_type": "stream",
     "text": [
      "0.2375\n",
      "0.18333333333333332\n",
      "[[  0   0   0]\n",
      " [104   0  20]\n",
      " [ 59   0  57]]\n",
      "[[ 0  0  0]\n",
      " [24  0  9]\n",
      " [16  0 11]]\n"
     ]
    }
   ],
   "source": [
    "print(metrics.accuracy_score(y_train, prob_class_one_T))\n",
    "print(metrics.accuracy_score(y_test, prob_class_one))\n",
    "print(metrics.confusion_matrix(y_train, prob_class_one_T))\n",
    "print(metrics.confusion_matrix(y_test, prob_class_one))"
   ]
  },
  {
   "cell_type": "code",
   "execution_count": 3,
   "id": "9fb26d66",
   "metadata": {},
   "outputs": [
    {
     "data": {
      "image/png": "[encoded data removed]",
      "text/plain": [
       "<Figure size 432x288 with 1 Axes>"
      ]
     },
     "metadata": {
      "needs_background": "light"
     },
     "output_type": "display_data"
    },
    {
     "data": {
      "image/png": "[encoded data removed]",
      "text/plain": [
       "<Figure size 432x288 with 1 Axes>"
      ]
     },
     "metadata": {
      "needs_background": "light"
     },
     "output_type": "display_data"
    }
   ],
   "source": [
    "plt.plot(lossplot) #lets plot the second line\n",
    "plt.ylabel('Loss')\n",
    "plt.show()\n",
    "\n",
    "plt.subplot(2,1,1)\n",
    "plt.plot(accuracytrainplot,'r',label=\"train\")\n",
    "plt.plot(accuracytestplot,'b',label=\"test\")\n",
    "plt.ylabel('accuracy')\n",
    "plt.legend()\n",
    "plt.show()\n"
   ]
  },
  {
   "cell_type": "markdown",
   "id": "c4af21f3",
   "metadata": {},
   "source": [
    "Briniging the Testing Test"
   ]
  },
  {
   "cell_type": "code",
   "execution_count": 6,
   "id": "2d960e10",
   "metadata": {},
   "outputs": [
    {
     "name": "stderr",
     "output_type": "stream",
     "text": [
      "/var/folders/ct/dqdky4352zx_f2qfwpf8xq840000gn/T/ipykernel_19508/232461720.py:75: UserWarning: The init module will be deprecated soon, since templates can now provide a method that returns the shape of parameter tensors.\n",
      "  theta_weights = strong_ent_layers_uniform(n_layers, n_qubits, seed=42)\n",
      "/Users/apple/opt/anaconda3/lib/python3.9/site-packages/pennylane/_grad.py:95: UserWarning: Starting with PennyLane v0.20.0, when using Autograd, inputs have to explicitly specify requires_grad=True (or the argnum argument must be passed) in order for trainable parameters to be identified.\n",
      "  warnings.warn(\n"
     ]
    },
    {
     "name": "stdout",
     "output_type": "stream",
     "text": [
      "It 1 out of 95 loss:  1.0032604831775387  : Acc train:  0.09  : Acc test :  0.167\n"
     ]
    },
    {
     "name": "stderr",
     "output_type": "stream",
     "text": [
      "/Users/apple/opt/anaconda3/lib/python3.9/site-packages/pennylane/_grad.py:95: UserWarning: Starting with PennyLane v0.20.0, when using Autograd, inputs have to explicitly specify requires_grad=True (or the argnum argument must be passed) in order for trainable parameters to be identified.\n",
      "  warnings.warn(\n"
     ]
    },
    {
     "name": "stdout",
     "output_type": "stream",
     "text": [
      "It 11 out of 95 loss:  1.268250427228119  : Acc train:  0.08  : Acc test :  0.208\n"
     ]
    },
    {
     "name": "stderr",
     "output_type": "stream",
     "text": [
      "/Users/apple/opt/anaconda3/lib/python3.9/site-packages/pennylane/_grad.py:95: UserWarning: Starting with PennyLane v0.20.0, when using Autograd, inputs have to explicitly specify requires_grad=True (or the argnum argument must be passed) in order for trainable parameters to be identified.\n",
      "  warnings.warn(\n"
     ]
    },
    {
     "name": "stdout",
     "output_type": "stream",
     "text": [
      "It 21 out of 95 loss:  1.2363199918363967  : Acc train:  0.09  : Acc test :  0.208\n"
     ]
    },
    {
     "name": "stderr",
     "output_type": "stream",
     "text": [
      "/Users/apple/opt/anaconda3/lib/python3.9/site-packages/pennylane/_grad.py:95: UserWarning: Starting with PennyLane v0.20.0, when using Autograd, inputs have to explicitly specify requires_grad=True (or the argnum argument must be passed) in order for trainable parameters to be identified.\n",
      "  warnings.warn(\n"
     ]
    },
    {
     "name": "stdout",
     "output_type": "stream",
     "text": [
      "It 31 out of 95 loss:  1.2884146395742087  : Acc train:  0.1  : Acc test :  0.208\n"
     ]
    },
    {
     "name": "stderr",
     "output_type": "stream",
     "text": [
      "/Users/apple/opt/anaconda3/lib/python3.9/site-packages/pennylane/_grad.py:95: UserWarning: Starting with PennyLane v0.20.0, when using Autograd, inputs have to explicitly specify requires_grad=True (or the argnum argument must be passed) in order for trainable parameters to be identified.\n",
      "  warnings.warn(\n"
     ]
    },
    {
     "name": "stdout",
     "output_type": "stream",
     "text": [
      "It 41 out of 95 loss:  1.0574660445974686  : Acc train:  0.14  : Acc test :  0.25\n"
     ]
    },
    {
     "name": "stderr",
     "output_type": "stream",
     "text": [
      "/Users/apple/opt/anaconda3/lib/python3.9/site-packages/pennylane/_grad.py:95: UserWarning: Starting with PennyLane v0.20.0, when using Autograd, inputs have to explicitly specify requires_grad=True (or the argnum argument must be passed) in order for trainable parameters to be identified.\n",
      "  warnings.warn(\n"
     ]
    },
    {
     "name": "stdout",
     "output_type": "stream",
     "text": [
      "It 51 out of 95 loss:  0.9831084720194074  : Acc train:  0.19  : Acc test :  0.25\n"
     ]
    },
    {
     "name": "stderr",
     "output_type": "stream",
     "text": [
      "/Users/apple/opt/anaconda3/lib/python3.9/site-packages/pennylane/_grad.py:95: UserWarning: Starting with PennyLane v0.20.0, when using Autograd, inputs have to explicitly specify requires_grad=True (or the argnum argument must be passed) in order for trainable parameters to be identified.\n",
      "  warnings.warn(\n"
     ]
    },
    {
     "name": "stdout",
     "output_type": "stream",
     "text": [
      "It 61 out of 95 loss:  0.8056957613687563  : Acc train:  0.19  : Acc test :  0.292\n"
     ]
    },
    {
     "name": "stderr",
     "output_type": "stream",
     "text": [
      "/Users/apple/opt/anaconda3/lib/python3.9/site-packages/pennylane/_grad.py:95: UserWarning: Starting with PennyLane v0.20.0, when using Autograd, inputs have to explicitly specify requires_grad=True (or the argnum argument must be passed) in order for trainable parameters to be identified.\n",
      "  warnings.warn(\n"
     ]
    },
    {
     "name": "stdout",
     "output_type": "stream",
     "text": [
      "It 71 out of 95 loss:  0.9877063843788532  : Acc train:  0.24  : Acc test :  0.333\n"
     ]
    },
    {
     "name": "stderr",
     "output_type": "stream",
     "text": [
      "/Users/apple/opt/anaconda3/lib/python3.9/site-packages/pennylane/_grad.py:95: UserWarning: Starting with PennyLane v0.20.0, when using Autograd, inputs have to explicitly specify requires_grad=True (or the argnum argument must be passed) in order for trainable parameters to be identified.\n",
      "  warnings.warn(\n"
     ]
    },
    {
     "name": "stdout",
     "output_type": "stream",
     "text": [
      "It 81 out of 95 loss:  1.0819336901060825  : Acc train:  0.26  : Acc test :  0.333\n"
     ]
    },
    {
     "name": "stderr",
     "output_type": "stream",
     "text": [
      "/Users/apple/opt/anaconda3/lib/python3.9/site-packages/pennylane/_grad.py:95: UserWarning: Starting with PennyLane v0.20.0, when using Autograd, inputs have to explicitly specify requires_grad=True (or the argnum argument must be passed) in order for trainable parameters to be identified.\n",
      "  warnings.warn(\n"
     ]
    },
    {
     "name": "stdout",
     "output_type": "stream",
     "text": [
      "It 91 out of 95 loss:  0.9670854144405767  : Acc train:  0.27  : Acc test :  0.333\n"
     ]
    },
    {
     "name": "stderr",
     "output_type": "stream",
     "text": [
      "/Users/apple/opt/anaconda3/lib/python3.9/site-packages/pennylane/_grad.py:95: UserWarning: Starting with PennyLane v0.20.0, when using Autograd, inputs have to explicitly specify requires_grad=True (or the argnum argument must be passed) in order for trainable parameters to be identified.\n",
      "  warnings.warn(\n"
     ]
    }
   ],
   "source": [
    "import pennylane as qml\n",
    "\n",
    "from pennylane import numpy as np\n",
    "from pennylane.templates.embeddings import AngleEmbedding\n",
    "from pennylane.templates.layers import StronglyEntanglingLayers\n",
    "from pennylane.optimize import GradientDescentOptimizer\n",
    "from pennylane.optimize import NesterovMomentumOptimizer\n",
    "from pennylane.init import strong_ent_layers_uniform\n",
    "import torch\n",
    "from torch.autograd import Variable\n",
    "from sklearn import datasets\n",
    "from sklearn.utils import shuffle\n",
    "from sklearn.preprocessing import minmax_scale\n",
    "from sklearn.model_selection import train_test_split\n",
    "import sklearn.metrics as metrics\n",
    "from itertools import chain\n",
    "import matplotlib.pyplot as plt\n",
    "import pandas as pd\n",
    "\n",
    "# load the dataset\n",
    "data_test=np.loadtxt('/Users/apple/variational_classifer/data/mock_test_set.csv', delimiter=',', skiprows=1)\n",
    "\n",
    "X = data_test[:, 0:4]\n",
    "y = data_test[:,4]\n",
    "\n",
    "# normalize data\n",
    "X = minmax_scale(X, feature_range=(0, np.pi))\n",
    "\n",
    "X_train, X_test, y_train, y_test = train_test_split(X, y, test_size=0.2, random_state=1)\n",
    "\n",
    "# number of qubits is equal to the number of features\n",
    "n_qubits = X.shape[1] \n",
    "\n",
    "# quantum device handle\n",
    "dev = qml.device(\"default.qubit\", wires=n_qubits)\n",
    "\n",
    "# quantum circuit\n",
    "@qml.qnode(dev)\n",
    "def circuit(weights, x=None):\n",
    "    qml.AngleEmbedding(x, wires = range(n_qubits))\n",
    "    StronglyEntanglingLayers(weights, wires = range(n_qubits))\n",
    "    return qml.expval(qml.PauliZ(0))\n",
    "\n",
    "# variational quantum classifier\n",
    "def variational_classifier(theta, x=None):\n",
    "    weights = theta[0]\n",
    "    bias = theta[1]\n",
    "    return circuit(weights, x=x) + bias\n",
    "\n",
    "def cost(theta, X, expectations):\n",
    "    e_predicted = \\\n",
    "        np.array([variational_classifier(theta, x=x) for x in X])\n",
    "    loss = np.mean((e_predicted - expectations)**2)    \n",
    "    return loss\n",
    "\n",
    "# number of quantum layers\n",
    "n_layers = 3\n",
    "\n",
    "\n",
    "# convert classes to expectations: 0 to -1, 1 to +1\n",
    "e_train = np.empty_like(y_train)\n",
    "e_train[y_train == 0] = -1\n",
    "e_train[y_train == 1] = +1\n",
    "\n",
    "# select learning batch size\n",
    "batch_size = 5\n",
    "\n",
    "# calculate numbe of batches\n",
    "batches = len(X_train) // batch_size\n",
    "\n",
    "# select number of epochs\n",
    "n_epochs = 5\n",
    "\n",
    "# draw random quantum node weights\n",
    "theta_weights = strong_ent_layers_uniform(n_layers, n_qubits, seed=42)\n",
    "theta_bias = 0.0\n",
    "theta_init = (theta_weights, theta_bias) # initial weights\n",
    "\n",
    "# train the variational classifier\n",
    "theta = theta_init\n",
    "\n",
    "\n",
    "# build the optimizer object\n",
    "pennylane_opt = GradientDescentOptimizer()\n",
    "\n",
    "\n",
    "X_batches = np.array_split(np.arange(len(X_train)), batches)\n",
    "lossplot = []\n",
    "accuracytrainplot = []\n",
    "accuracytestplot = []\n",
    "for it, batch_index in enumerate(chain(*(n_epochs * [X_batches]))):\n",
    "    # Update the weights by one optimizer step\n",
    "    batch_cost = \\\n",
    "        lambda theta: cost(theta, X_train[batch_index], e_train[batch_index])\n",
    "    theta = pennylane_opt.step(batch_cost, theta)\n",
    "\n",
    "    if it % 10 == 0:\n",
    "        expectations = np.array([variational_classifier(theta, x=x) for x in X_train])\n",
    "        prob_class_one = (expectations + 1) / 2.0\n",
    "        prob_class_one = pd.DataFrame.from_dict(prob_class_one)\n",
    "        prob_class_one = prob_class_one.iloc[:, :]\n",
    "        prob_class_one = prob_class_one[0].apply(lambda x: -1 if x <= 0.5 else 1)\n",
    "        prob_class_one_T = prob_class_one.to_numpy()\n",
    "           \n",
    "        expectations = np.array([variational_classifier(theta, x=x) for x in X_test])\n",
    "        prob_class_one = (expectations + 1) / 2.0\n",
    "        prob_class_one = pd.DataFrame.from_dict(prob_class_one)\n",
    "        prob_class_one = prob_class_one.iloc[:, :]\n",
    "        prob_class_one = prob_class_one[0].apply(lambda x: -1 if x <= 0.5 else 1)\n",
    "        prob_class_one = prob_class_one.to_numpy()\n",
    "        \n",
    "        lossplot.append(cost(theta, X_train[batch_index], e_train[batch_index]))\n",
    "        accuracytrainplot.append(metrics.accuracy_score(y_train, prob_class_one_T))\n",
    "        accuracytestplot.append(metrics.accuracy_score(y_test, prob_class_one))\n",
    "        \n",
    "        #print(\"It\",it+1,\"out of\",len(X_batches) *n_epochs)#\n",
    "        print(\"It\",it+1,\"out of\",len(X_batches) *n_epochs, \"loss: \",cost(theta, X_train[batch_index], e_train[batch_index]),\n",
    "        \" : Acc train: \",round(metrics.accuracy_score(y_train, prob_class_one_T),2),\n",
    "        \" : Acc test : \",round(metrics.accuracy_score(y_test, prob_class_one),3))\n",
    "        if metrics.accuracy_score(y_train, prob_class_one_T) >= 0.97:\n",
    "                break"
   ]
  },
  {
   "cell_type": "code",
   "execution_count": null,
   "id": "40549ce7",
   "metadata": {},
   "outputs": [],
   "source": []
  },
  {
   "cell_type": "code",
   "execution_count": null,
   "id": "f352b737",
   "metadata": {},
   "outputs": [],
   "source": []
  }
 ],
 "metadata": {
  "kernelspec": {
   "display_name": "Python 3 (ipykernel)",
   "language": "python",
   "name": "python3"
  },
  "language_info": {
   "codemirror_mode": {
    "name": "ipython",
    "version": 3
   },
   "file_extension": ".py",
   "mimetype": "text/x-python",
   "name": "python",
   "nbconvert_exporter": "python",
   "pygments_lexer": "ipython3",
   "version": "3.9.7"
  }
 },
 "nbformat": 4,
 "nbformat_minor": 5
}
